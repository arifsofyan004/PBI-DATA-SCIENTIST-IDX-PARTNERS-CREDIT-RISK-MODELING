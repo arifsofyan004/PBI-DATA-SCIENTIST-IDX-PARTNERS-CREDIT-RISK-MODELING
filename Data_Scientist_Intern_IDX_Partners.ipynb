{
  "cells": [
    {
      "cell_type": "markdown",
      "id": "33cdba33",
      "metadata": {
        "id": "33cdba33"
      },
      "source": [
        "- Nama: Mohamad Arif Sofyan\n",
        "- PBI : ID/X Parnets"
      ]
    },
    {
      "cell_type": "markdown",
      "id": "ab238aad",
      "metadata": {
        "id": "ab238aad"
      },
      "source": [
        "# Import Data"
      ]
    },
    {
      "cell_type": "code",
      "source": [
        "from google.colab import drive\n",
        "drive.mount('/content/drive')"
      ],
      "metadata": {
        "colab": {
          "base_uri": "https://localhost:8080/"
        },
        "id": "hKjBKOjKVxmL",
        "outputId": "f90c2f75-838d-4231-b9ff-ffec6df79ed4"
      },
      "id": "hKjBKOjKVxmL",
      "execution_count": 1,
      "outputs": [
        {
          "output_type": "stream",
          "name": "stdout",
          "text": [
            "Mounted at /content/drive\n"
          ]
        }
      ]
    },
    {
      "cell_type": "code",
      "execution_count": 2,
      "id": "a4c415f5",
      "metadata": {
        "colab": {
          "base_uri": "https://localhost:8080/",
          "height": 396
        },
        "id": "a4c415f5",
        "outputId": "bbcf6cb9-3486-4e16-ead7-695e34c0a99b"
      },
      "outputs": [
        {
          "output_type": "stream",
          "name": "stderr",
          "text": [
            "<ipython-input-2-0fd411f67277>:3: DtypeWarning: Columns (20) have mixed types. Specify dtype option on import or set low_memory=False.\n",
            "  df = pd.read_csv(\"/content/drive/MyDrive/Dataset/loan_data_2007_2014.csv\")\n"
          ]
        },
        {
          "output_type": "execute_result",
          "data": {
            "text/plain": [
              "   Unnamed: 0       id  member_id  loan_amnt  funded_amnt  funded_amnt_inv  \\\n",
              "0           0  1077501    1296599       5000         5000           4975.0   \n",
              "1           1  1077430    1314167       2500         2500           2500.0   \n",
              "2           2  1077175    1313524       2400         2400           2400.0   \n",
              "3           3  1076863    1277178      10000        10000          10000.0   \n",
              "4           4  1075358    1311748       3000         3000           3000.0   \n",
              "\n",
              "         term  int_rate  installment grade  ... total_bal_il il_util  \\\n",
              "0   36 months     10.65       162.87     B  ...          NaN     NaN   \n",
              "1   60 months     15.27        59.83     C  ...          NaN     NaN   \n",
              "2   36 months     15.96        84.33     C  ...          NaN     NaN   \n",
              "3   36 months     13.49       339.31     C  ...          NaN     NaN   \n",
              "4   60 months     12.69        67.79     B  ...          NaN     NaN   \n",
              "\n",
              "  open_rv_12m open_rv_24m  max_bal_bc all_util total_rev_hi_lim inq_fi  \\\n",
              "0         NaN         NaN         NaN      NaN              NaN    NaN   \n",
              "1         NaN         NaN         NaN      NaN              NaN    NaN   \n",
              "2         NaN         NaN         NaN      NaN              NaN    NaN   \n",
              "3         NaN         NaN         NaN      NaN              NaN    NaN   \n",
              "4         NaN         NaN         NaN      NaN              NaN    NaN   \n",
              "\n",
              "  total_cu_tl inq_last_12m  \n",
              "0         NaN          NaN  \n",
              "1         NaN          NaN  \n",
              "2         NaN          NaN  \n",
              "3         NaN          NaN  \n",
              "4         NaN          NaN  \n",
              "\n",
              "[5 rows x 75 columns]"
            ],
            "text/html": [
              "\n",
              "  <div id=\"df-68474d39-2e8b-4607-a81e-6ee7f2b2a65f\" class=\"colab-df-container\">\n",
              "    <div>\n",
              "<style scoped>\n",
              "    .dataframe tbody tr th:only-of-type {\n",
              "        vertical-align: middle;\n",
              "    }\n",
              "\n",
              "    .dataframe tbody tr th {\n",
              "        vertical-align: top;\n",
              "    }\n",
              "\n",
              "    .dataframe thead th {\n",
              "        text-align: right;\n",
              "    }\n",
              "</style>\n",
              "<table border=\"1\" class=\"dataframe\">\n",
              "  <thead>\n",
              "    <tr style=\"text-align: right;\">\n",
              "      <th></th>\n",
              "      <th>Unnamed: 0</th>\n",
              "      <th>id</th>\n",
              "      <th>member_id</th>\n",
              "      <th>loan_amnt</th>\n",
              "      <th>funded_amnt</th>\n",
              "      <th>funded_amnt_inv</th>\n",
              "      <th>term</th>\n",
              "      <th>int_rate</th>\n",
              "      <th>installment</th>\n",
              "      <th>grade</th>\n",
              "      <th>...</th>\n",
              "      <th>total_bal_il</th>\n",
              "      <th>il_util</th>\n",
              "      <th>open_rv_12m</th>\n",
              "      <th>open_rv_24m</th>\n",
              "      <th>max_bal_bc</th>\n",
              "      <th>all_util</th>\n",
              "      <th>total_rev_hi_lim</th>\n",
              "      <th>inq_fi</th>\n",
              "      <th>total_cu_tl</th>\n",
              "      <th>inq_last_12m</th>\n",
              "    </tr>\n",
              "  </thead>\n",
              "  <tbody>\n",
              "    <tr>\n",
              "      <th>0</th>\n",
              "      <td>0</td>\n",
              "      <td>1077501</td>\n",
              "      <td>1296599</td>\n",
              "      <td>5000</td>\n",
              "      <td>5000</td>\n",
              "      <td>4975.0</td>\n",
              "      <td>36 months</td>\n",
              "      <td>10.65</td>\n",
              "      <td>162.87</td>\n",
              "      <td>B</td>\n",
              "      <td>...</td>\n",
              "      <td>NaN</td>\n",
              "      <td>NaN</td>\n",
              "      <td>NaN</td>\n",
              "      <td>NaN</td>\n",
              "      <td>NaN</td>\n",
              "      <td>NaN</td>\n",
              "      <td>NaN</td>\n",
              "      <td>NaN</td>\n",
              "      <td>NaN</td>\n",
              "      <td>NaN</td>\n",
              "    </tr>\n",
              "    <tr>\n",
              "      <th>1</th>\n",
              "      <td>1</td>\n",
              "      <td>1077430</td>\n",
              "      <td>1314167</td>\n",
              "      <td>2500</td>\n",
              "      <td>2500</td>\n",
              "      <td>2500.0</td>\n",
              "      <td>60 months</td>\n",
              "      <td>15.27</td>\n",
              "      <td>59.83</td>\n",
              "      <td>C</td>\n",
              "      <td>...</td>\n",
              "      <td>NaN</td>\n",
              "      <td>NaN</td>\n",
              "      <td>NaN</td>\n",
              "      <td>NaN</td>\n",
              "      <td>NaN</td>\n",
              "      <td>NaN</td>\n",
              "      <td>NaN</td>\n",
              "      <td>NaN</td>\n",
              "      <td>NaN</td>\n",
              "      <td>NaN</td>\n",
              "    </tr>\n",
              "    <tr>\n",
              "      <th>2</th>\n",
              "      <td>2</td>\n",
              "      <td>1077175</td>\n",
              "      <td>1313524</td>\n",
              "      <td>2400</td>\n",
              "      <td>2400</td>\n",
              "      <td>2400.0</td>\n",
              "      <td>36 months</td>\n",
              "      <td>15.96</td>\n",
              "      <td>84.33</td>\n",
              "      <td>C</td>\n",
              "      <td>...</td>\n",
              "      <td>NaN</td>\n",
              "      <td>NaN</td>\n",
              "      <td>NaN</td>\n",
              "      <td>NaN</td>\n",
              "      <td>NaN</td>\n",
              "      <td>NaN</td>\n",
              "      <td>NaN</td>\n",
              "      <td>NaN</td>\n",
              "      <td>NaN</td>\n",
              "      <td>NaN</td>\n",
              "    </tr>\n",
              "    <tr>\n",
              "      <th>3</th>\n",
              "      <td>3</td>\n",
              "      <td>1076863</td>\n",
              "      <td>1277178</td>\n",
              "      <td>10000</td>\n",
              "      <td>10000</td>\n",
              "      <td>10000.0</td>\n",
              "      <td>36 months</td>\n",
              "      <td>13.49</td>\n",
              "      <td>339.31</td>\n",
              "      <td>C</td>\n",
              "      <td>...</td>\n",
              "      <td>NaN</td>\n",
              "      <td>NaN</td>\n",
              "      <td>NaN</td>\n",
              "      <td>NaN</td>\n",
              "      <td>NaN</td>\n",
              "      <td>NaN</td>\n",
              "      <td>NaN</td>\n",
              "      <td>NaN</td>\n",
              "      <td>NaN</td>\n",
              "      <td>NaN</td>\n",
              "    </tr>\n",
              "    <tr>\n",
              "      <th>4</th>\n",
              "      <td>4</td>\n",
              "      <td>1075358</td>\n",
              "      <td>1311748</td>\n",
              "      <td>3000</td>\n",
              "      <td>3000</td>\n",
              "      <td>3000.0</td>\n",
              "      <td>60 months</td>\n",
              "      <td>12.69</td>\n",
              "      <td>67.79</td>\n",
              "      <td>B</td>\n",
              "      <td>...</td>\n",
              "      <td>NaN</td>\n",
              "      <td>NaN</td>\n",
              "      <td>NaN</td>\n",
              "      <td>NaN</td>\n",
              "      <td>NaN</td>\n",
              "      <td>NaN</td>\n",
              "      <td>NaN</td>\n",
              "      <td>NaN</td>\n",
              "      <td>NaN</td>\n",
              "      <td>NaN</td>\n",
              "    </tr>\n",
              "  </tbody>\n",
              "</table>\n",
              "<p>5 rows × 75 columns</p>\n",
              "</div>\n",
              "    <div class=\"colab-df-buttons\">\n",
              "\n",
              "  <div class=\"colab-df-container\">\n",
              "    <button class=\"colab-df-convert\" onclick=\"convertToInteractive('df-68474d39-2e8b-4607-a81e-6ee7f2b2a65f')\"\n",
              "            title=\"Convert this dataframe to an interactive table.\"\n",
              "            style=\"display:none;\">\n",
              "\n",
              "  <svg xmlns=\"http://www.w3.org/2000/svg\" height=\"24px\" viewBox=\"0 -960 960 960\">\n",
              "    <path d=\"M120-120v-720h720v720H120Zm60-500h600v-160H180v160Zm220 220h160v-160H400v160Zm0 220h160v-160H400v160ZM180-400h160v-160H180v160Zm440 0h160v-160H620v160ZM180-180h160v-160H180v160Zm440 0h160v-160H620v160Z\"/>\n",
              "  </svg>\n",
              "    </button>\n",
              "\n",
              "  <style>\n",
              "    .colab-df-container {\n",
              "      display:flex;\n",
              "      gap: 12px;\n",
              "    }\n",
              "\n",
              "    .colab-df-convert {\n",
              "      background-color: #E8F0FE;\n",
              "      border: none;\n",
              "      border-radius: 50%;\n",
              "      cursor: pointer;\n",
              "      display: none;\n",
              "      fill: #1967D2;\n",
              "      height: 32px;\n",
              "      padding: 0 0 0 0;\n",
              "      width: 32px;\n",
              "    }\n",
              "\n",
              "    .colab-df-convert:hover {\n",
              "      background-color: #E2EBFA;\n",
              "      box-shadow: 0px 1px 2px rgba(60, 64, 67, 0.3), 0px 1px 3px 1px rgba(60, 64, 67, 0.15);\n",
              "      fill: #174EA6;\n",
              "    }\n",
              "\n",
              "    .colab-df-buttons div {\n",
              "      margin-bottom: 4px;\n",
              "    }\n",
              "\n",
              "    [theme=dark] .colab-df-convert {\n",
              "      background-color: #3B4455;\n",
              "      fill: #D2E3FC;\n",
              "    }\n",
              "\n",
              "    [theme=dark] .colab-df-convert:hover {\n",
              "      background-color: #434B5C;\n",
              "      box-shadow: 0px 1px 3px 1px rgba(0, 0, 0, 0.15);\n",
              "      filter: drop-shadow(0px 1px 2px rgba(0, 0, 0, 0.3));\n",
              "      fill: #FFFFFF;\n",
              "    }\n",
              "  </style>\n",
              "\n",
              "    <script>\n",
              "      const buttonEl =\n",
              "        document.querySelector('#df-68474d39-2e8b-4607-a81e-6ee7f2b2a65f button.colab-df-convert');\n",
              "      buttonEl.style.display =\n",
              "        google.colab.kernel.accessAllowed ? 'block' : 'none';\n",
              "\n",
              "      async function convertToInteractive(key) {\n",
              "        const element = document.querySelector('#df-68474d39-2e8b-4607-a81e-6ee7f2b2a65f');\n",
              "        const dataTable =\n",
              "          await google.colab.kernel.invokeFunction('convertToInteractive',\n",
              "                                                    [key], {});\n",
              "        if (!dataTable) return;\n",
              "\n",
              "        const docLinkHtml = 'Like what you see? Visit the ' +\n",
              "          '<a target=\"_blank\" href=https://colab.research.google.com/notebooks/data_table.ipynb>data table notebook</a>'\n",
              "          + ' to learn more about interactive tables.';\n",
              "        element.innerHTML = '';\n",
              "        dataTable['output_type'] = 'display_data';\n",
              "        await google.colab.output.renderOutput(dataTable, element);\n",
              "        const docLink = document.createElement('div');\n",
              "        docLink.innerHTML = docLinkHtml;\n",
              "        element.appendChild(docLink);\n",
              "      }\n",
              "    </script>\n",
              "  </div>\n",
              "\n",
              "\n",
              "<div id=\"df-005f2888-d235-48d0-ac9b-0b35c84a07ec\">\n",
              "  <button class=\"colab-df-quickchart\" onclick=\"quickchart('df-005f2888-d235-48d0-ac9b-0b35c84a07ec')\"\n",
              "            title=\"Suggest charts\"\n",
              "            style=\"display:none;\">\n",
              "\n",
              "<svg xmlns=\"http://www.w3.org/2000/svg\" height=\"24px\"viewBox=\"0 0 24 24\"\n",
              "     width=\"24px\">\n",
              "    <g>\n",
              "        <path d=\"M19 3H5c-1.1 0-2 .9-2 2v14c0 1.1.9 2 2 2h14c1.1 0 2-.9 2-2V5c0-1.1-.9-2-2-2zM9 17H7v-7h2v7zm4 0h-2V7h2v10zm4 0h-2v-4h2v4z\"/>\n",
              "    </g>\n",
              "</svg>\n",
              "  </button>\n",
              "\n",
              "<style>\n",
              "  .colab-df-quickchart {\n",
              "      --bg-color: #E8F0FE;\n",
              "      --fill-color: #1967D2;\n",
              "      --hover-bg-color: #E2EBFA;\n",
              "      --hover-fill-color: #174EA6;\n",
              "      --disabled-fill-color: #AAA;\n",
              "      --disabled-bg-color: #DDD;\n",
              "  }\n",
              "\n",
              "  [theme=dark] .colab-df-quickchart {\n",
              "      --bg-color: #3B4455;\n",
              "      --fill-color: #D2E3FC;\n",
              "      --hover-bg-color: #434B5C;\n",
              "      --hover-fill-color: #FFFFFF;\n",
              "      --disabled-bg-color: #3B4455;\n",
              "      --disabled-fill-color: #666;\n",
              "  }\n",
              "\n",
              "  .colab-df-quickchart {\n",
              "    background-color: var(--bg-color);\n",
              "    border: none;\n",
              "    border-radius: 50%;\n",
              "    cursor: pointer;\n",
              "    display: none;\n",
              "    fill: var(--fill-color);\n",
              "    height: 32px;\n",
              "    padding: 0;\n",
              "    width: 32px;\n",
              "  }\n",
              "\n",
              "  .colab-df-quickchart:hover {\n",
              "    background-color: var(--hover-bg-color);\n",
              "    box-shadow: 0 1px 2px rgba(60, 64, 67, 0.3), 0 1px 3px 1px rgba(60, 64, 67, 0.15);\n",
              "    fill: var(--button-hover-fill-color);\n",
              "  }\n",
              "\n",
              "  .colab-df-quickchart-complete:disabled,\n",
              "  .colab-df-quickchart-complete:disabled:hover {\n",
              "    background-color: var(--disabled-bg-color);\n",
              "    fill: var(--disabled-fill-color);\n",
              "    box-shadow: none;\n",
              "  }\n",
              "\n",
              "  .colab-df-spinner {\n",
              "    border: 2px solid var(--fill-color);\n",
              "    border-color: transparent;\n",
              "    border-bottom-color: var(--fill-color);\n",
              "    animation:\n",
              "      spin 1s steps(1) infinite;\n",
              "  }\n",
              "\n",
              "  @keyframes spin {\n",
              "    0% {\n",
              "      border-color: transparent;\n",
              "      border-bottom-color: var(--fill-color);\n",
              "      border-left-color: var(--fill-color);\n",
              "    }\n",
              "    20% {\n",
              "      border-color: transparent;\n",
              "      border-left-color: var(--fill-color);\n",
              "      border-top-color: var(--fill-color);\n",
              "    }\n",
              "    30% {\n",
              "      border-color: transparent;\n",
              "      border-left-color: var(--fill-color);\n",
              "      border-top-color: var(--fill-color);\n",
              "      border-right-color: var(--fill-color);\n",
              "    }\n",
              "    40% {\n",
              "      border-color: transparent;\n",
              "      border-right-color: var(--fill-color);\n",
              "      border-top-color: var(--fill-color);\n",
              "    }\n",
              "    60% {\n",
              "      border-color: transparent;\n",
              "      border-right-color: var(--fill-color);\n",
              "    }\n",
              "    80% {\n",
              "      border-color: transparent;\n",
              "      border-right-color: var(--fill-color);\n",
              "      border-bottom-color: var(--fill-color);\n",
              "    }\n",
              "    90% {\n",
              "      border-color: transparent;\n",
              "      border-bottom-color: var(--fill-color);\n",
              "    }\n",
              "  }\n",
              "</style>\n",
              "\n",
              "  <script>\n",
              "    async function quickchart(key) {\n",
              "      const quickchartButtonEl =\n",
              "        document.querySelector('#' + key + ' button');\n",
              "      quickchartButtonEl.disabled = true;  // To prevent multiple clicks.\n",
              "      quickchartButtonEl.classList.add('colab-df-spinner');\n",
              "      try {\n",
              "        const charts = await google.colab.kernel.invokeFunction(\n",
              "            'suggestCharts', [key], {});\n",
              "      } catch (error) {\n",
              "        console.error('Error during call to suggestCharts:', error);\n",
              "      }\n",
              "      quickchartButtonEl.classList.remove('colab-df-spinner');\n",
              "      quickchartButtonEl.classList.add('colab-df-quickchart-complete');\n",
              "    }\n",
              "    (() => {\n",
              "      let quickchartButtonEl =\n",
              "        document.querySelector('#df-005f2888-d235-48d0-ac9b-0b35c84a07ec button');\n",
              "      quickchartButtonEl.style.display =\n",
              "        google.colab.kernel.accessAllowed ? 'block' : 'none';\n",
              "    })();\n",
              "  </script>\n",
              "</div>\n",
              "\n",
              "    </div>\n",
              "  </div>\n"
            ]
          },
          "metadata": {},
          "execution_count": 2
        }
      ],
      "source": [
        "import pandas as pd\n",
        "\n",
        "df = pd.read_csv(\"/content/drive/MyDrive/Dataset/loan_data_2007_2014.csv\")\n",
        "df.head()"
      ]
    },
    {
      "cell_type": "markdown",
      "id": "6b24b6d9",
      "metadata": {
        "id": "6b24b6d9"
      },
      "source": [
        "# Data Understanding"
      ]
    },
    {
      "cell_type": "code",
      "source": [
        "df.shape"
      ],
      "metadata": {
        "colab": {
          "base_uri": "https://localhost:8080/"
        },
        "id": "qpLzBpdlS7lq",
        "outputId": "51a4411b-8970-4309-8489-5010e9fa0c9c"
      },
      "id": "qpLzBpdlS7lq",
      "execution_count": 3,
      "outputs": [
        {
          "output_type": "execute_result",
          "data": {
            "text/plain": [
              "(466285, 75)"
            ]
          },
          "metadata": {},
          "execution_count": 3
        }
      ]
    },
    {
      "cell_type": "code",
      "execution_count": 4,
      "id": "c239586d",
      "metadata": {
        "colab": {
          "base_uri": "https://localhost:8080/"
        },
        "id": "c239586d",
        "outputId": "d57dd779-a606-4cbd-d382-e635b42a8e18"
      },
      "outputs": [
        {
          "output_type": "stream",
          "name": "stdout",
          "text": [
            "<class 'pandas.core.frame.DataFrame'>\n",
            "RangeIndex: 466285 entries, 0 to 466284\n",
            "Data columns (total 75 columns):\n",
            " #   Column                       Non-Null Count   Dtype  \n",
            "---  ------                       --------------   -----  \n",
            " 0   Unnamed: 0                   466285 non-null  int64  \n",
            " 1   id                           466285 non-null  int64  \n",
            " 2   member_id                    466285 non-null  int64  \n",
            " 3   loan_amnt                    466285 non-null  int64  \n",
            " 4   funded_amnt                  466285 non-null  int64  \n",
            " 5   funded_amnt_inv              466285 non-null  float64\n",
            " 6   term                         466285 non-null  object \n",
            " 7   int_rate                     466285 non-null  float64\n",
            " 8   installment                  466285 non-null  float64\n",
            " 9   grade                        466285 non-null  object \n",
            " 10  sub_grade                    466285 non-null  object \n",
            " 11  emp_title                    438697 non-null  object \n",
            " 12  emp_length                   445277 non-null  object \n",
            " 13  home_ownership               466285 non-null  object \n",
            " 14  annual_inc                   466281 non-null  float64\n",
            " 15  verification_status          466285 non-null  object \n",
            " 16  issue_d                      466285 non-null  object \n",
            " 17  loan_status                  466285 non-null  object \n",
            " 18  pymnt_plan                   466285 non-null  object \n",
            " 19  url                          466285 non-null  object \n",
            " 20  desc                         125983 non-null  object \n",
            " 21  purpose                      466285 non-null  object \n",
            " 22  title                        466265 non-null  object \n",
            " 23  zip_code                     466285 non-null  object \n",
            " 24  addr_state                   466285 non-null  object \n",
            " 25  dti                          466285 non-null  float64\n",
            " 26  delinq_2yrs                  466256 non-null  float64\n",
            " 27  earliest_cr_line             466256 non-null  object \n",
            " 28  inq_last_6mths               466256 non-null  float64\n",
            " 29  mths_since_last_delinq       215934 non-null  float64\n",
            " 30  mths_since_last_record       62638 non-null   float64\n",
            " 31  open_acc                     466256 non-null  float64\n",
            " 32  pub_rec                      466256 non-null  float64\n",
            " 33  revol_bal                    466285 non-null  int64  \n",
            " 34  revol_util                   465945 non-null  float64\n",
            " 35  total_acc                    466256 non-null  float64\n",
            " 36  initial_list_status          466285 non-null  object \n",
            " 37  out_prncp                    466285 non-null  float64\n",
            " 38  out_prncp_inv                466285 non-null  float64\n",
            " 39  total_pymnt                  466285 non-null  float64\n",
            " 40  total_pymnt_inv              466285 non-null  float64\n",
            " 41  total_rec_prncp              466285 non-null  float64\n",
            " 42  total_rec_int                466285 non-null  float64\n",
            " 43  total_rec_late_fee           466285 non-null  float64\n",
            " 44  recoveries                   466285 non-null  float64\n",
            " 45  collection_recovery_fee      466285 non-null  float64\n",
            " 46  last_pymnt_d                 465909 non-null  object \n",
            " 47  last_pymnt_amnt              466285 non-null  float64\n",
            " 48  next_pymnt_d                 239071 non-null  object \n",
            " 49  last_credit_pull_d           466243 non-null  object \n",
            " 50  collections_12_mths_ex_med   466140 non-null  float64\n",
            " 51  mths_since_last_major_derog  98974 non-null   float64\n",
            " 52  policy_code                  466285 non-null  int64  \n",
            " 53  application_type             466285 non-null  object \n",
            " 54  annual_inc_joint             0 non-null       float64\n",
            " 55  dti_joint                    0 non-null       float64\n",
            " 56  verification_status_joint    0 non-null       float64\n",
            " 57  acc_now_delinq               466256 non-null  float64\n",
            " 58  tot_coll_amt                 396009 non-null  float64\n",
            " 59  tot_cur_bal                  396009 non-null  float64\n",
            " 60  open_acc_6m                  0 non-null       float64\n",
            " 61  open_il_6m                   0 non-null       float64\n",
            " 62  open_il_12m                  0 non-null       float64\n",
            " 63  open_il_24m                  0 non-null       float64\n",
            " 64  mths_since_rcnt_il           0 non-null       float64\n",
            " 65  total_bal_il                 0 non-null       float64\n",
            " 66  il_util                      0 non-null       float64\n",
            " 67  open_rv_12m                  0 non-null       float64\n",
            " 68  open_rv_24m                  0 non-null       float64\n",
            " 69  max_bal_bc                   0 non-null       float64\n",
            " 70  all_util                     0 non-null       float64\n",
            " 71  total_rev_hi_lim             396009 non-null  float64\n",
            " 72  inq_fi                       0 non-null       float64\n",
            " 73  total_cu_tl                  0 non-null       float64\n",
            " 74  inq_last_12m                 0 non-null       float64\n",
            "dtypes: float64(46), int64(7), object(22)\n",
            "memory usage: 266.8+ MB\n"
          ]
        }
      ],
      "source": [
        "df.info()"
      ]
    },
    {
      "cell_type": "code",
      "execution_count": 5,
      "id": "1b699785",
      "metadata": {
        "colab": {
          "base_uri": "https://localhost:8080/"
        },
        "id": "1b699785",
        "outputId": "e5f530da-7738-459a-cccc-050bb7dba9dd"
      },
      "outputs": [
        {
          "output_type": "stream",
          "name": "stdout",
          "text": [
            "Jumlah Nilai yang Hilang per Kolom:\n",
            "Unnamed: 0                          0\n",
            "id                                  0\n",
            "member_id                           0\n",
            "loan_amnt                           0\n",
            "funded_amnt                         0\n",
            "funded_amnt_inv                     0\n",
            "term                                0\n",
            "int_rate                            0\n",
            "installment                         0\n",
            "grade                               0\n",
            "sub_grade                           0\n",
            "emp_title                       27588\n",
            "emp_length                      21008\n",
            "home_ownership                      0\n",
            "annual_inc                          4\n",
            "verification_status                 0\n",
            "issue_d                             0\n",
            "loan_status                         0\n",
            "pymnt_plan                          0\n",
            "url                                 0\n",
            "desc                           340302\n",
            "purpose                             0\n",
            "title                              20\n",
            "zip_code                            0\n",
            "addr_state                          0\n",
            "dti                                 0\n",
            "delinq_2yrs                        29\n",
            "earliest_cr_line                   29\n",
            "inq_last_6mths                     29\n",
            "mths_since_last_delinq         250351\n",
            "mths_since_last_record         403647\n",
            "open_acc                           29\n",
            "pub_rec                            29\n",
            "revol_bal                           0\n",
            "revol_util                        340\n",
            "total_acc                          29\n",
            "initial_list_status                 0\n",
            "out_prncp                           0\n",
            "out_prncp_inv                       0\n",
            "total_pymnt                         0\n",
            "total_pymnt_inv                     0\n",
            "total_rec_prncp                     0\n",
            "total_rec_int                       0\n",
            "total_rec_late_fee                  0\n",
            "recoveries                          0\n",
            "collection_recovery_fee             0\n",
            "last_pymnt_d                      376\n",
            "last_pymnt_amnt                     0\n",
            "next_pymnt_d                   227214\n",
            "last_credit_pull_d                 42\n",
            "collections_12_mths_ex_med        145\n",
            "mths_since_last_major_derog    367311\n",
            "policy_code                         0\n",
            "application_type                    0\n",
            "annual_inc_joint               466285\n",
            "dti_joint                      466285\n",
            "verification_status_joint      466285\n",
            "acc_now_delinq                     29\n",
            "tot_coll_amt                    70276\n",
            "tot_cur_bal                     70276\n",
            "open_acc_6m                    466285\n",
            "open_il_6m                     466285\n",
            "open_il_12m                    466285\n",
            "open_il_24m                    466285\n",
            "mths_since_rcnt_il             466285\n",
            "total_bal_il                   466285\n",
            "il_util                        466285\n",
            "open_rv_12m                    466285\n",
            "open_rv_24m                    466285\n",
            "max_bal_bc                     466285\n",
            "all_util                       466285\n",
            "total_rev_hi_lim                70276\n",
            "inq_fi                         466285\n",
            "total_cu_tl                    466285\n",
            "inq_last_12m                   466285\n",
            "dtype: int64\n"
          ]
        }
      ],
      "source": [
        "# Mengatur opsi tampilan Pandas\n",
        "pd.set_option('display.max_rows', None)  # Memastikan semua baris dapat ditampilkan\n",
        "pd.set_option('display.max_columns', None)  # Memastikan semua kolom dapat ditampilkan\n",
        "pd.set_option('display.width', 1000)  # Mengatur lebar tampilan agar cukup untuk menampilkan semua data\n",
        "\n",
        "# Menampilkan jumlah nilai yang hilang untuk setiap kolom\n",
        "print(\"Jumlah Nilai yang Hilang per Kolom:\")\n",
        "print(df.isnull().sum())"
      ]
    },
    {
      "cell_type": "markdown",
      "id": "0c37272f",
      "metadata": {
        "id": "0c37272f"
      },
      "source": [
        "# Pemilihan feature"
      ]
    },
    {
      "cell_type": "markdown",
      "id": "729aa5b5",
      "metadata": {
        "id": "729aa5b5"
      },
      "source": [
        "# Keterangan untuk Kolom yang Dihapus:\n",
        "\n",
        "**Kolom Redundan atau Tidak Relevan:**\n",
        "- 'Unnamed: 0': **hanya indeks tambahan**.\n",
        "- 'id', 'member_id', 'application_type': **ID unik yang tidak mempengaruhi analisis.**\n",
        "- 'url': **URL dari pinjaman, tidak relevan untuk analisis.**\n",
        "- 'desc': **Deskripsi teks bebas, sulit diinterpretasikan untuk model.**\n",
        "- 'policy_code': **Jika semua nilai sama, tidak memberikan informasi.**\n",
        "- 'title' : **Terlalu banyak informasi dan sebagai gantinya ada kolom purpose**\n",
        "\n",
        "**Kolom dengan Banyak Data yang Hilang:**\n",
        "- 'annual_inc_joint', 'dti_joint', 'verification_status_joint': **Mayoritas data tidak tersedia.**\n",
        "- 'open_acc_6m', 'open_il_6m', dll.: **Jumlah data yang hilang signifikan.**\n",
        "- 'mths_since_rcnt_il', 'total_bal_il', dll.: **Informasi kurang lengkap mengenai kredit.**\n",
        "- 'mths_since_last_delinq', 'mths_since_last_record', 'mths_since_last_major_derog', 'next_pymnt_d': **Tingkat kekosongan data sangat tinggi.**\n",
        "\n",
        "**Kolom Terlalu Spesifik:**\n",
        "- 'zip_code', 'addr_state': **Informasi geografis yang terlalu spesifik dan kurang relevan untuk analisis umum.**"
      ]
    },
    {
      "cell_type": "code",
      "execution_count": 6,
      "id": "27945988",
      "metadata": {
        "colab": {
          "base_uri": "https://localhost:8080/",
          "height": 348
        },
        "id": "27945988",
        "outputId": "9426309c-0baf-4531-bdda-b6aa4a72bba3"
      },
      "outputs": [
        {
          "output_type": "execute_result",
          "data": {
            "text/plain": [
              "   loan_amnt  funded_amnt  funded_amnt_inv        term  int_rate  installment grade sub_grade                 emp_title emp_length home_ownership  annual_inc verification_status issue_d  loan_status pymnt_plan         purpose    dti  delinq_2yrs earliest_cr_line  inq_last_6mths  open_acc  pub_rec  revol_bal  revol_util  total_acc initial_list_status  out_prncp  out_prncp_inv   total_pymnt  total_pymnt_inv  total_rec_prncp  total_rec_int  total_rec_late_fee  recoveries  collection_recovery_fee last_pymnt_d  last_pymnt_amnt last_credit_pull_d  collections_12_mths_ex_med  acc_now_delinq  tot_coll_amt  tot_cur_bal  total_rev_hi_lim\n",
              "0       5000         5000           4975.0   36 months     10.65       162.87     B        B2                       NaN  10+ years           RENT     24000.0            Verified  Dec-11   Fully Paid          n     credit_card  27.65          0.0           Jan-85             1.0       3.0      0.0      13648        83.7        9.0                   f        0.0            0.0   5861.071414          5831.78          5000.00         861.07                0.00        0.00                     0.00       Jan-15           171.62             Jan-16                         0.0             0.0           NaN          NaN               NaN\n",
              "1       2500         2500           2500.0   60 months     15.27        59.83     C        C4                     Ryder   < 1 year           RENT     30000.0     Source Verified  Dec-11  Charged Off          n             car   1.00          0.0           Apr-99             5.0       3.0      0.0       1687         9.4        4.0                   f        0.0            0.0   1008.710000          1008.71           456.46         435.17                0.00      117.08                     1.11       Apr-13           119.66             Sep-13                         0.0             0.0           NaN          NaN               NaN\n",
              "2       2400         2400           2400.0   36 months     15.96        84.33     C        C5                       NaN  10+ years           RENT     12252.0        Not Verified  Dec-11   Fully Paid          n  small_business   8.72          0.0           Nov-01             2.0       2.0      0.0       2956        98.5       10.0                   f        0.0            0.0   3003.653644          3003.65          2400.00         603.65                0.00        0.00                     0.00       Jun-14           649.91             Jan-16                         0.0             0.0           NaN          NaN               NaN\n",
              "3      10000        10000          10000.0   36 months     13.49       339.31     C        C1       AIR RESOURCES BOARD  10+ years           RENT     49200.0     Source Verified  Dec-11   Fully Paid          n           other  20.00          0.0           Feb-96             1.0      10.0      0.0       5598        21.0       37.0                   f        0.0            0.0  12226.302210         12226.30         10000.00        2209.33               16.97        0.00                     0.00       Jan-15           357.48             Jan-15                         0.0             0.0           NaN          NaN               NaN\n",
              "4       3000         3000           3000.0   60 months     12.69        67.79     B        B5  University Medical Group     1 year           RENT     80000.0     Source Verified  Dec-11      Current          n           other  17.94          0.0           Jan-96             0.0      15.0      0.0      27783        53.9       38.0                   f      766.9          766.9   3242.170000          3242.17          2233.10        1009.07                0.00        0.00                     0.00       Jan-16            67.79             Jan-16                         0.0             0.0           NaN          NaN               NaN"
            ],
            "text/html": [
              "\n",
              "  <div id=\"df-b24b2b24-64a0-4fe1-9f28-23b9c8b1d7c6\" class=\"colab-df-container\">\n",
              "    <div>\n",
              "<style scoped>\n",
              "    .dataframe tbody tr th:only-of-type {\n",
              "        vertical-align: middle;\n",
              "    }\n",
              "\n",
              "    .dataframe tbody tr th {\n",
              "        vertical-align: top;\n",
              "    }\n",
              "\n",
              "    .dataframe thead th {\n",
              "        text-align: right;\n",
              "    }\n",
              "</style>\n",
              "<table border=\"1\" class=\"dataframe\">\n",
              "  <thead>\n",
              "    <tr style=\"text-align: right;\">\n",
              "      <th></th>\n",
              "      <th>loan_amnt</th>\n",
              "      <th>funded_amnt</th>\n",
              "      <th>funded_amnt_inv</th>\n",
              "      <th>term</th>\n",
              "      <th>int_rate</th>\n",
              "      <th>installment</th>\n",
              "      <th>grade</th>\n",
              "      <th>sub_grade</th>\n",
              "      <th>emp_title</th>\n",
              "      <th>emp_length</th>\n",
              "      <th>home_ownership</th>\n",
              "      <th>annual_inc</th>\n",
              "      <th>verification_status</th>\n",
              "      <th>issue_d</th>\n",
              "      <th>loan_status</th>\n",
              "      <th>pymnt_plan</th>\n",
              "      <th>purpose</th>\n",
              "      <th>dti</th>\n",
              "      <th>delinq_2yrs</th>\n",
              "      <th>earliest_cr_line</th>\n",
              "      <th>inq_last_6mths</th>\n",
              "      <th>open_acc</th>\n",
              "      <th>pub_rec</th>\n",
              "      <th>revol_bal</th>\n",
              "      <th>revol_util</th>\n",
              "      <th>total_acc</th>\n",
              "      <th>initial_list_status</th>\n",
              "      <th>out_prncp</th>\n",
              "      <th>out_prncp_inv</th>\n",
              "      <th>total_pymnt</th>\n",
              "      <th>total_pymnt_inv</th>\n",
              "      <th>total_rec_prncp</th>\n",
              "      <th>total_rec_int</th>\n",
              "      <th>total_rec_late_fee</th>\n",
              "      <th>recoveries</th>\n",
              "      <th>collection_recovery_fee</th>\n",
              "      <th>last_pymnt_d</th>\n",
              "      <th>last_pymnt_amnt</th>\n",
              "      <th>last_credit_pull_d</th>\n",
              "      <th>collections_12_mths_ex_med</th>\n",
              "      <th>acc_now_delinq</th>\n",
              "      <th>tot_coll_amt</th>\n",
              "      <th>tot_cur_bal</th>\n",
              "      <th>total_rev_hi_lim</th>\n",
              "    </tr>\n",
              "  </thead>\n",
              "  <tbody>\n",
              "    <tr>\n",
              "      <th>0</th>\n",
              "      <td>5000</td>\n",
              "      <td>5000</td>\n",
              "      <td>4975.0</td>\n",
              "      <td>36 months</td>\n",
              "      <td>10.65</td>\n",
              "      <td>162.87</td>\n",
              "      <td>B</td>\n",
              "      <td>B2</td>\n",
              "      <td>NaN</td>\n",
              "      <td>10+ years</td>\n",
              "      <td>RENT</td>\n",
              "      <td>24000.0</td>\n",
              "      <td>Verified</td>\n",
              "      <td>Dec-11</td>\n",
              "      <td>Fully Paid</td>\n",
              "      <td>n</td>\n",
              "      <td>credit_card</td>\n",
              "      <td>27.65</td>\n",
              "      <td>0.0</td>\n",
              "      <td>Jan-85</td>\n",
              "      <td>1.0</td>\n",
              "      <td>3.0</td>\n",
              "      <td>0.0</td>\n",
              "      <td>13648</td>\n",
              "      <td>83.7</td>\n",
              "      <td>9.0</td>\n",
              "      <td>f</td>\n",
              "      <td>0.0</td>\n",
              "      <td>0.0</td>\n",
              "      <td>5861.071414</td>\n",
              "      <td>5831.78</td>\n",
              "      <td>5000.00</td>\n",
              "      <td>861.07</td>\n",
              "      <td>0.00</td>\n",
              "      <td>0.00</td>\n",
              "      <td>0.00</td>\n",
              "      <td>Jan-15</td>\n",
              "      <td>171.62</td>\n",
              "      <td>Jan-16</td>\n",
              "      <td>0.0</td>\n",
              "      <td>0.0</td>\n",
              "      <td>NaN</td>\n",
              "      <td>NaN</td>\n",
              "      <td>NaN</td>\n",
              "    </tr>\n",
              "    <tr>\n",
              "      <th>1</th>\n",
              "      <td>2500</td>\n",
              "      <td>2500</td>\n",
              "      <td>2500.0</td>\n",
              "      <td>60 months</td>\n",
              "      <td>15.27</td>\n",
              "      <td>59.83</td>\n",
              "      <td>C</td>\n",
              "      <td>C4</td>\n",
              "      <td>Ryder</td>\n",
              "      <td>&lt; 1 year</td>\n",
              "      <td>RENT</td>\n",
              "      <td>30000.0</td>\n",
              "      <td>Source Verified</td>\n",
              "      <td>Dec-11</td>\n",
              "      <td>Charged Off</td>\n",
              "      <td>n</td>\n",
              "      <td>car</td>\n",
              "      <td>1.00</td>\n",
              "      <td>0.0</td>\n",
              "      <td>Apr-99</td>\n",
              "      <td>5.0</td>\n",
              "      <td>3.0</td>\n",
              "      <td>0.0</td>\n",
              "      <td>1687</td>\n",
              "      <td>9.4</td>\n",
              "      <td>4.0</td>\n",
              "      <td>f</td>\n",
              "      <td>0.0</td>\n",
              "      <td>0.0</td>\n",
              "      <td>1008.710000</td>\n",
              "      <td>1008.71</td>\n",
              "      <td>456.46</td>\n",
              "      <td>435.17</td>\n",
              "      <td>0.00</td>\n",
              "      <td>117.08</td>\n",
              "      <td>1.11</td>\n",
              "      <td>Apr-13</td>\n",
              "      <td>119.66</td>\n",
              "      <td>Sep-13</td>\n",
              "      <td>0.0</td>\n",
              "      <td>0.0</td>\n",
              "      <td>NaN</td>\n",
              "      <td>NaN</td>\n",
              "      <td>NaN</td>\n",
              "    </tr>\n",
              "    <tr>\n",
              "      <th>2</th>\n",
              "      <td>2400</td>\n",
              "      <td>2400</td>\n",
              "      <td>2400.0</td>\n",
              "      <td>36 months</td>\n",
              "      <td>15.96</td>\n",
              "      <td>84.33</td>\n",
              "      <td>C</td>\n",
              "      <td>C5</td>\n",
              "      <td>NaN</td>\n",
              "      <td>10+ years</td>\n",
              "      <td>RENT</td>\n",
              "      <td>12252.0</td>\n",
              "      <td>Not Verified</td>\n",
              "      <td>Dec-11</td>\n",
              "      <td>Fully Paid</td>\n",
              "      <td>n</td>\n",
              "      <td>small_business</td>\n",
              "      <td>8.72</td>\n",
              "      <td>0.0</td>\n",
              "      <td>Nov-01</td>\n",
              "      <td>2.0</td>\n",
              "      <td>2.0</td>\n",
              "      <td>0.0</td>\n",
              "      <td>2956</td>\n",
              "      <td>98.5</td>\n",
              "      <td>10.0</td>\n",
              "      <td>f</td>\n",
              "      <td>0.0</td>\n",
              "      <td>0.0</td>\n",
              "      <td>3003.653644</td>\n",
              "      <td>3003.65</td>\n",
              "      <td>2400.00</td>\n",
              "      <td>603.65</td>\n",
              "      <td>0.00</td>\n",
              "      <td>0.00</td>\n",
              "      <td>0.00</td>\n",
              "      <td>Jun-14</td>\n",
              "      <td>649.91</td>\n",
              "      <td>Jan-16</td>\n",
              "      <td>0.0</td>\n",
              "      <td>0.0</td>\n",
              "      <td>NaN</td>\n",
              "      <td>NaN</td>\n",
              "      <td>NaN</td>\n",
              "    </tr>\n",
              "    <tr>\n",
              "      <th>3</th>\n",
              "      <td>10000</td>\n",
              "      <td>10000</td>\n",
              "      <td>10000.0</td>\n",
              "      <td>36 months</td>\n",
              "      <td>13.49</td>\n",
              "      <td>339.31</td>\n",
              "      <td>C</td>\n",
              "      <td>C1</td>\n",
              "      <td>AIR RESOURCES BOARD</td>\n",
              "      <td>10+ years</td>\n",
              "      <td>RENT</td>\n",
              "      <td>49200.0</td>\n",
              "      <td>Source Verified</td>\n",
              "      <td>Dec-11</td>\n",
              "      <td>Fully Paid</td>\n",
              "      <td>n</td>\n",
              "      <td>other</td>\n",
              "      <td>20.00</td>\n",
              "      <td>0.0</td>\n",
              "      <td>Feb-96</td>\n",
              "      <td>1.0</td>\n",
              "      <td>10.0</td>\n",
              "      <td>0.0</td>\n",
              "      <td>5598</td>\n",
              "      <td>21.0</td>\n",
              "      <td>37.0</td>\n",
              "      <td>f</td>\n",
              "      <td>0.0</td>\n",
              "      <td>0.0</td>\n",
              "      <td>12226.302210</td>\n",
              "      <td>12226.30</td>\n",
              "      <td>10000.00</td>\n",
              "      <td>2209.33</td>\n",
              "      <td>16.97</td>\n",
              "      <td>0.00</td>\n",
              "      <td>0.00</td>\n",
              "      <td>Jan-15</td>\n",
              "      <td>357.48</td>\n",
              "      <td>Jan-15</td>\n",
              "      <td>0.0</td>\n",
              "      <td>0.0</td>\n",
              "      <td>NaN</td>\n",
              "      <td>NaN</td>\n",
              "      <td>NaN</td>\n",
              "    </tr>\n",
              "    <tr>\n",
              "      <th>4</th>\n",
              "      <td>3000</td>\n",
              "      <td>3000</td>\n",
              "      <td>3000.0</td>\n",
              "      <td>60 months</td>\n",
              "      <td>12.69</td>\n",
              "      <td>67.79</td>\n",
              "      <td>B</td>\n",
              "      <td>B5</td>\n",
              "      <td>University Medical Group</td>\n",
              "      <td>1 year</td>\n",
              "      <td>RENT</td>\n",
              "      <td>80000.0</td>\n",
              "      <td>Source Verified</td>\n",
              "      <td>Dec-11</td>\n",
              "      <td>Current</td>\n",
              "      <td>n</td>\n",
              "      <td>other</td>\n",
              "      <td>17.94</td>\n",
              "      <td>0.0</td>\n",
              "      <td>Jan-96</td>\n",
              "      <td>0.0</td>\n",
              "      <td>15.0</td>\n",
              "      <td>0.0</td>\n",
              "      <td>27783</td>\n",
              "      <td>53.9</td>\n",
              "      <td>38.0</td>\n",
              "      <td>f</td>\n",
              "      <td>766.9</td>\n",
              "      <td>766.9</td>\n",
              "      <td>3242.170000</td>\n",
              "      <td>3242.17</td>\n",
              "      <td>2233.10</td>\n",
              "      <td>1009.07</td>\n",
              "      <td>0.00</td>\n",
              "      <td>0.00</td>\n",
              "      <td>0.00</td>\n",
              "      <td>Jan-16</td>\n",
              "      <td>67.79</td>\n",
              "      <td>Jan-16</td>\n",
              "      <td>0.0</td>\n",
              "      <td>0.0</td>\n",
              "      <td>NaN</td>\n",
              "      <td>NaN</td>\n",
              "      <td>NaN</td>\n",
              "    </tr>\n",
              "  </tbody>\n",
              "</table>\n",
              "</div>\n",
              "    <div class=\"colab-df-buttons\">\n",
              "\n",
              "  <div class=\"colab-df-container\">\n",
              "    <button class=\"colab-df-convert\" onclick=\"convertToInteractive('df-b24b2b24-64a0-4fe1-9f28-23b9c8b1d7c6')\"\n",
              "            title=\"Convert this dataframe to an interactive table.\"\n",
              "            style=\"display:none;\">\n",
              "\n",
              "  <svg xmlns=\"http://www.w3.org/2000/svg\" height=\"24px\" viewBox=\"0 -960 960 960\">\n",
              "    <path d=\"M120-120v-720h720v720H120Zm60-500h600v-160H180v160Zm220 220h160v-160H400v160Zm0 220h160v-160H400v160ZM180-400h160v-160H180v160Zm440 0h160v-160H620v160ZM180-180h160v-160H180v160Zm440 0h160v-160H620v160Z\"/>\n",
              "  </svg>\n",
              "    </button>\n",
              "\n",
              "  <style>\n",
              "    .colab-df-container {\n",
              "      display:flex;\n",
              "      gap: 12px;\n",
              "    }\n",
              "\n",
              "    .colab-df-convert {\n",
              "      background-color: #E8F0FE;\n",
              "      border: none;\n",
              "      border-radius: 50%;\n",
              "      cursor: pointer;\n",
              "      display: none;\n",
              "      fill: #1967D2;\n",
              "      height: 32px;\n",
              "      padding: 0 0 0 0;\n",
              "      width: 32px;\n",
              "    }\n",
              "\n",
              "    .colab-df-convert:hover {\n",
              "      background-color: #E2EBFA;\n",
              "      box-shadow: 0px 1px 2px rgba(60, 64, 67, 0.3), 0px 1px 3px 1px rgba(60, 64, 67, 0.15);\n",
              "      fill: #174EA6;\n",
              "    }\n",
              "\n",
              "    .colab-df-buttons div {\n",
              "      margin-bottom: 4px;\n",
              "    }\n",
              "\n",
              "    [theme=dark] .colab-df-convert {\n",
              "      background-color: #3B4455;\n",
              "      fill: #D2E3FC;\n",
              "    }\n",
              "\n",
              "    [theme=dark] .colab-df-convert:hover {\n",
              "      background-color: #434B5C;\n",
              "      box-shadow: 0px 1px 3px 1px rgba(0, 0, 0, 0.15);\n",
              "      filter: drop-shadow(0px 1px 2px rgba(0, 0, 0, 0.3));\n",
              "      fill: #FFFFFF;\n",
              "    }\n",
              "  </style>\n",
              "\n",
              "    <script>\n",
              "      const buttonEl =\n",
              "        document.querySelector('#df-b24b2b24-64a0-4fe1-9f28-23b9c8b1d7c6 button.colab-df-convert');\n",
              "      buttonEl.style.display =\n",
              "        google.colab.kernel.accessAllowed ? 'block' : 'none';\n",
              "\n",
              "      async function convertToInteractive(key) {\n",
              "        const element = document.querySelector('#df-b24b2b24-64a0-4fe1-9f28-23b9c8b1d7c6');\n",
              "        const dataTable =\n",
              "          await google.colab.kernel.invokeFunction('convertToInteractive',\n",
              "                                                    [key], {});\n",
              "        if (!dataTable) return;\n",
              "\n",
              "        const docLinkHtml = 'Like what you see? Visit the ' +\n",
              "          '<a target=\"_blank\" href=https://colab.research.google.com/notebooks/data_table.ipynb>data table notebook</a>'\n",
              "          + ' to learn more about interactive tables.';\n",
              "        element.innerHTML = '';\n",
              "        dataTable['output_type'] = 'display_data';\n",
              "        await google.colab.output.renderOutput(dataTable, element);\n",
              "        const docLink = document.createElement('div');\n",
              "        docLink.innerHTML = docLinkHtml;\n",
              "        element.appendChild(docLink);\n",
              "      }\n",
              "    </script>\n",
              "  </div>\n",
              "\n",
              "\n",
              "<div id=\"df-e8fbc229-59ea-4e98-aa21-af3aaf76933f\">\n",
              "  <button class=\"colab-df-quickchart\" onclick=\"quickchart('df-e8fbc229-59ea-4e98-aa21-af3aaf76933f')\"\n",
              "            title=\"Suggest charts\"\n",
              "            style=\"display:none;\">\n",
              "\n",
              "<svg xmlns=\"http://www.w3.org/2000/svg\" height=\"24px\"viewBox=\"0 0 24 24\"\n",
              "     width=\"24px\">\n",
              "    <g>\n",
              "        <path d=\"M19 3H5c-1.1 0-2 .9-2 2v14c0 1.1.9 2 2 2h14c1.1 0 2-.9 2-2V5c0-1.1-.9-2-2-2zM9 17H7v-7h2v7zm4 0h-2V7h2v10zm4 0h-2v-4h2v4z\"/>\n",
              "    </g>\n",
              "</svg>\n",
              "  </button>\n",
              "\n",
              "<style>\n",
              "  .colab-df-quickchart {\n",
              "      --bg-color: #E8F0FE;\n",
              "      --fill-color: #1967D2;\n",
              "      --hover-bg-color: #E2EBFA;\n",
              "      --hover-fill-color: #174EA6;\n",
              "      --disabled-fill-color: #AAA;\n",
              "      --disabled-bg-color: #DDD;\n",
              "  }\n",
              "\n",
              "  [theme=dark] .colab-df-quickchart {\n",
              "      --bg-color: #3B4455;\n",
              "      --fill-color: #D2E3FC;\n",
              "      --hover-bg-color: #434B5C;\n",
              "      --hover-fill-color: #FFFFFF;\n",
              "      --disabled-bg-color: #3B4455;\n",
              "      --disabled-fill-color: #666;\n",
              "  }\n",
              "\n",
              "  .colab-df-quickchart {\n",
              "    background-color: var(--bg-color);\n",
              "    border: none;\n",
              "    border-radius: 50%;\n",
              "    cursor: pointer;\n",
              "    display: none;\n",
              "    fill: var(--fill-color);\n",
              "    height: 32px;\n",
              "    padding: 0;\n",
              "    width: 32px;\n",
              "  }\n",
              "\n",
              "  .colab-df-quickchart:hover {\n",
              "    background-color: var(--hover-bg-color);\n",
              "    box-shadow: 0 1px 2px rgba(60, 64, 67, 0.3), 0 1px 3px 1px rgba(60, 64, 67, 0.15);\n",
              "    fill: var(--button-hover-fill-color);\n",
              "  }\n",
              "\n",
              "  .colab-df-quickchart-complete:disabled,\n",
              "  .colab-df-quickchart-complete:disabled:hover {\n",
              "    background-color: var(--disabled-bg-color);\n",
              "    fill: var(--disabled-fill-color);\n",
              "    box-shadow: none;\n",
              "  }\n",
              "\n",
              "  .colab-df-spinner {\n",
              "    border: 2px solid var(--fill-color);\n",
              "    border-color: transparent;\n",
              "    border-bottom-color: var(--fill-color);\n",
              "    animation:\n",
              "      spin 1s steps(1) infinite;\n",
              "  }\n",
              "\n",
              "  @keyframes spin {\n",
              "    0% {\n",
              "      border-color: transparent;\n",
              "      border-bottom-color: var(--fill-color);\n",
              "      border-left-color: var(--fill-color);\n",
              "    }\n",
              "    20% {\n",
              "      border-color: transparent;\n",
              "      border-left-color: var(--fill-color);\n",
              "      border-top-color: var(--fill-color);\n",
              "    }\n",
              "    30% {\n",
              "      border-color: transparent;\n",
              "      border-left-color: var(--fill-color);\n",
              "      border-top-color: var(--fill-color);\n",
              "      border-right-color: var(--fill-color);\n",
              "    }\n",
              "    40% {\n",
              "      border-color: transparent;\n",
              "      border-right-color: var(--fill-color);\n",
              "      border-top-color: var(--fill-color);\n",
              "    }\n",
              "    60% {\n",
              "      border-color: transparent;\n",
              "      border-right-color: var(--fill-color);\n",
              "    }\n",
              "    80% {\n",
              "      border-color: transparent;\n",
              "      border-right-color: var(--fill-color);\n",
              "      border-bottom-color: var(--fill-color);\n",
              "    }\n",
              "    90% {\n",
              "      border-color: transparent;\n",
              "      border-bottom-color: var(--fill-color);\n",
              "    }\n",
              "  }\n",
              "</style>\n",
              "\n",
              "  <script>\n",
              "    async function quickchart(key) {\n",
              "      const quickchartButtonEl =\n",
              "        document.querySelector('#' + key + ' button');\n",
              "      quickchartButtonEl.disabled = true;  // To prevent multiple clicks.\n",
              "      quickchartButtonEl.classList.add('colab-df-spinner');\n",
              "      try {\n",
              "        const charts = await google.colab.kernel.invokeFunction(\n",
              "            'suggestCharts', [key], {});\n",
              "      } catch (error) {\n",
              "        console.error('Error during call to suggestCharts:', error);\n",
              "      }\n",
              "      quickchartButtonEl.classList.remove('colab-df-spinner');\n",
              "      quickchartButtonEl.classList.add('colab-df-quickchart-complete');\n",
              "    }\n",
              "    (() => {\n",
              "      let quickchartButtonEl =\n",
              "        document.querySelector('#df-e8fbc229-59ea-4e98-aa21-af3aaf76933f button');\n",
              "      quickchartButtonEl.style.display =\n",
              "        google.colab.kernel.accessAllowed ? 'block' : 'none';\n",
              "    })();\n",
              "  </script>\n",
              "</div>\n",
              "\n",
              "    </div>\n",
              "  </div>\n"
            ]
          },
          "metadata": {},
          "execution_count": 6
        }
      ],
      "source": [
        "columns_to_drop = [\n",
        "    'Unnamed: 0', 'id', 'member_id', 'url', 'desc', 'policy_code',\n",
        "    'annual_inc_joint', 'dti_joint', 'verification_status_joint',\n",
        "    'open_acc_6m', 'open_il_6m', 'open_il_12m', 'open_il_24m',\n",
        "    'mths_since_rcnt_il', 'total_bal_il', 'il_util', 'open_rv_12m',\n",
        "    'open_rv_24m', 'max_bal_bc', 'all_util', 'inq_fi', 'total_cu_tl',\n",
        "    'inq_last_12m', 'mths_since_last_delinq', 'mths_since_last_record',\n",
        "    'mths_since_last_major_derog', 'next_pymnt_d', 'zip_code', 'addr_state','application_type','title'\n",
        "]\n",
        "\n",
        "df = df.drop(columns=columns_to_drop)\n",
        "df.head()"
      ]
    },
    {
      "cell_type": "code",
      "source": [
        "df.info()"
      ],
      "metadata": {
        "colab": {
          "base_uri": "https://localhost:8080/"
        },
        "id": "-wsT_CwTaPlj",
        "outputId": "7f329ea1-c387-40dd-8365-88a8732430f9"
      },
      "id": "-wsT_CwTaPlj",
      "execution_count": 7,
      "outputs": [
        {
          "output_type": "stream",
          "name": "stdout",
          "text": [
            "<class 'pandas.core.frame.DataFrame'>\n",
            "RangeIndex: 466285 entries, 0 to 466284\n",
            "Data columns (total 44 columns):\n",
            " #   Column                      Non-Null Count   Dtype  \n",
            "---  ------                      --------------   -----  \n",
            " 0   loan_amnt                   466285 non-null  int64  \n",
            " 1   funded_amnt                 466285 non-null  int64  \n",
            " 2   funded_amnt_inv             466285 non-null  float64\n",
            " 3   term                        466285 non-null  object \n",
            " 4   int_rate                    466285 non-null  float64\n",
            " 5   installment                 466285 non-null  float64\n",
            " 6   grade                       466285 non-null  object \n",
            " 7   sub_grade                   466285 non-null  object \n",
            " 8   emp_title                   438697 non-null  object \n",
            " 9   emp_length                  445277 non-null  object \n",
            " 10  home_ownership              466285 non-null  object \n",
            " 11  annual_inc                  466281 non-null  float64\n",
            " 12  verification_status         466285 non-null  object \n",
            " 13  issue_d                     466285 non-null  object \n",
            " 14  loan_status                 466285 non-null  object \n",
            " 15  pymnt_plan                  466285 non-null  object \n",
            " 16  purpose                     466285 non-null  object \n",
            " 17  dti                         466285 non-null  float64\n",
            " 18  delinq_2yrs                 466256 non-null  float64\n",
            " 19  earliest_cr_line            466256 non-null  object \n",
            " 20  inq_last_6mths              466256 non-null  float64\n",
            " 21  open_acc                    466256 non-null  float64\n",
            " 22  pub_rec                     466256 non-null  float64\n",
            " 23  revol_bal                   466285 non-null  int64  \n",
            " 24  revol_util                  465945 non-null  float64\n",
            " 25  total_acc                   466256 non-null  float64\n",
            " 26  initial_list_status         466285 non-null  object \n",
            " 27  out_prncp                   466285 non-null  float64\n",
            " 28  out_prncp_inv               466285 non-null  float64\n",
            " 29  total_pymnt                 466285 non-null  float64\n",
            " 30  total_pymnt_inv             466285 non-null  float64\n",
            " 31  total_rec_prncp             466285 non-null  float64\n",
            " 32  total_rec_int               466285 non-null  float64\n",
            " 33  total_rec_late_fee          466285 non-null  float64\n",
            " 34  recoveries                  466285 non-null  float64\n",
            " 35  collection_recovery_fee     466285 non-null  float64\n",
            " 36  last_pymnt_d                465909 non-null  object \n",
            " 37  last_pymnt_amnt             466285 non-null  float64\n",
            " 38  last_credit_pull_d          466243 non-null  object \n",
            " 39  collections_12_mths_ex_med  466140 non-null  float64\n",
            " 40  acc_now_delinq              466256 non-null  float64\n",
            " 41  tot_coll_amt                396009 non-null  float64\n",
            " 42  tot_cur_bal                 396009 non-null  float64\n",
            " 43  total_rev_hi_lim            396009 non-null  float64\n",
            "dtypes: float64(26), int64(3), object(15)\n",
            "memory usage: 156.5+ MB\n"
          ]
        }
      ]
    },
    {
      "cell_type": "markdown",
      "source": [
        "# CLEANING, PREPROCESSING, FEATURE ENGINEERING\n",
        "Pada tahap ini, dilakukan penghapusan atau modifikasi beberapa fitur agar dapat disusun dalam format yang cocok untuk proses pemodelan."
      ],
      "metadata": {
        "id": "6QK3JACmed4H"
      },
      "id": "6QK3JACmed4H"
    },
    {
      "cell_type": "markdown",
      "source": [
        "# emp_length\n",
        "Memodifikasi `emp_length`. Contoh: 8 years -> 8"
      ],
      "metadata": {
        "id": "DxAJuLTvc3VY"
      },
      "id": "DxAJuLTvc3VY"
    },
    {
      "cell_type": "code",
      "source": [
        "df['emp_length'].unique()"
      ],
      "metadata": {
        "colab": {
          "base_uri": "https://localhost:8080/"
        },
        "id": "labsa3HXadg6",
        "outputId": "258cde92-1e33-48d0-d06a-7b27f0a9c43e"
      },
      "id": "labsa3HXadg6",
      "execution_count": 8,
      "outputs": [
        {
          "output_type": "execute_result",
          "data": {
            "text/plain": [
              "array(['10+ years', '< 1 year', '1 year', '3 years', '8 years', '9 years',\n",
              "       '4 years', '5 years', '6 years', '2 years', '7 years', nan],\n",
              "      dtype=object)"
            ]
          },
          "metadata": {},
          "execution_count": 8
        }
      ]
    },
    {
      "cell_type": "code",
      "source": [
        "df['emp_length_int'] = df['emp_length'].str.replace('\\+ years', '', regex=True)\n",
        "df['emp_length_int'] = df['emp_length_int'].str.replace('< 1 year', str(0), regex=True)\n",
        "df['emp_length_int'] = df['emp_length_int'].str.replace(' years', '', regex=True)\n",
        "df['emp_length_int'] = df['emp_length_int'].str.replace(' year', '', regex=True)"
      ],
      "metadata": {
        "id": "jrVDCxBqc7dC"
      },
      "id": "jrVDCxBqc7dC",
      "execution_count": 9,
      "outputs": []
    },
    {
      "cell_type": "code",
      "source": [
        "# Ubah tipe data kolom emp_length_int menjadi float\n",
        "df['emp_length_int'] = df['emp_length_int'].astype(float)"
      ],
      "metadata": {
        "id": "7eygmQ-9eGcJ"
      },
      "id": "7eygmQ-9eGcJ",
      "execution_count": 10,
      "outputs": []
    },
    {
      "cell_type": "code",
      "source": [
        "# Hapus kolom emp_length yang sudah tidak diperlukan\n",
        "df.drop('emp_length', axis=1, inplace=True)\n",
        "df['emp_length_int'].head()"
      ],
      "metadata": {
        "colab": {
          "base_uri": "https://localhost:8080/"
        },
        "id": "xM6h_GQ2eSnw",
        "outputId": "62c58831-4c64-47f0-c0a6-dccfb57ba762"
      },
      "id": "xM6h_GQ2eSnw",
      "execution_count": 11,
      "outputs": [
        {
          "output_type": "execute_result",
          "data": {
            "text/plain": [
              "0    10.0\n",
              "1     0.0\n",
              "2    10.0\n",
              "3    10.0\n",
              "4     1.0\n",
              "Name: emp_length_int, dtype: float64"
            ]
          },
          "metadata": {},
          "execution_count": 11
        }
      ]
    },
    {
      "cell_type": "markdown",
      "source": [
        "# term\n",
        "Memodifikasi `term`. Contoh: 60 months -> 60"
      ],
      "metadata": {
        "id": "Nt_fjDo2gQqG"
      },
      "id": "Nt_fjDo2gQqG"
    },
    {
      "cell_type": "code",
      "source": [
        "df['term'].unique()"
      ],
      "metadata": {
        "colab": {
          "base_uri": "https://localhost:8080/"
        },
        "id": "rrh2ttZue22m",
        "outputId": "744d1d1e-4a88-4eea-fe48-23fe87d9f646"
      },
      "id": "rrh2ttZue22m",
      "execution_count": 12,
      "outputs": [
        {
          "output_type": "execute_result",
          "data": {
            "text/plain": [
              "array([' 36 months', ' 60 months'], dtype=object)"
            ]
          },
          "metadata": {},
          "execution_count": 12
        }
      ]
    },
    {
      "cell_type": "code",
      "source": [
        "df['term_int'] = df['term'].str.replace(' months', '').astype(int)"
      ],
      "metadata": {
        "id": "zh0cEQGGgFoV"
      },
      "id": "zh0cEQGGgFoV",
      "execution_count": 13,
      "outputs": []
    },
    {
      "cell_type": "code",
      "source": [
        "df.drop('term', axis=1, inplace=True)"
      ],
      "metadata": {
        "id": "-jImo70cgyKs"
      },
      "id": "-jImo70cgyKs",
      "execution_count": 14,
      "outputs": []
    },
    {
      "cell_type": "markdown",
      "source": [
        "# earliest_cr_line\n",
        "Mengubah format `earliest_cr_line` dari bulan-tahun menjadi perhitungan jumlah waktu yang telah berlalu sejak saat itu. Untuk melakukan ini, biasanya digunakan tanggal referensi = hari ini. Tetapi, karena dataset ini berkisar antara tahun 2007-2014, lebih relevan untuk menggunakan tanggal referensi sekitar tahun 2017. Dalam kasus ini, tanggal 2017-12-01 digunakan sebagai tanggal referensi."
      ],
      "metadata": {
        "id": "aGH3vxVoicgT"
      },
      "id": "aGH3vxVoicgT"
    },
    {
      "cell_type": "code",
      "source": [
        "df.earliest_cr_line.head()"
      ],
      "metadata": {
        "colab": {
          "base_uri": "https://localhost:8080/"
        },
        "id": "2zkk55DNib9s",
        "outputId": "d1f6cd13-5ac1-40fe-9166-3ceb80e10c8b"
      },
      "id": "2zkk55DNib9s",
      "execution_count": 15,
      "outputs": [
        {
          "output_type": "execute_result",
          "data": {
            "text/plain": [
              "0    Jan-85\n",
              "1    Apr-99\n",
              "2    Nov-01\n",
              "3    Feb-96\n",
              "4    Jan-96\n",
              "Name: earliest_cr_line, dtype: object"
            ]
          },
          "metadata": {},
          "execution_count": 15
        }
      ]
    },
    {
      "cell_type": "code",
      "source": [
        "df['earliest_cr_line_date'] = pd.to_datetime(df['earliest_cr_line'], format='%b-%y')\n",
        "df['earliest_cr_line_date'].head()"
      ],
      "metadata": {
        "colab": {
          "base_uri": "https://localhost:8080/"
        },
        "id": "KdC73Df4lVdj",
        "outputId": "d86dddbd-16c4-4ebf-92d3-a66abc6a5139"
      },
      "id": "KdC73Df4lVdj",
      "execution_count": 16,
      "outputs": [
        {
          "output_type": "execute_result",
          "data": {
            "text/plain": [
              "0   1985-01-01\n",
              "1   1999-04-01\n",
              "2   2001-11-01\n",
              "3   1996-02-01\n",
              "4   1996-01-01\n",
              "Name: earliest_cr_line_date, dtype: datetime64[ns]"
            ]
          },
          "metadata": {},
          "execution_count": 16
        }
      ]
    },
    {
      "cell_type": "code",
      "source": [
        "import numpy as np\n",
        "\n",
        "df['mths_since_earliest_cr_line'] = round(pd.to_numeric((pd.to_datetime('2017-12-01') - df['earliest_cr_line_date']) / np.timedelta64(1, 'M')))\n",
        "df['mths_since_earliest_cr_line'].head(3)"
      ],
      "metadata": {
        "colab": {
          "base_uri": "https://localhost:8080/"
        },
        "id": "edgfGXb1V-XQ",
        "outputId": "ff089466-29c8-4336-eb9c-75b01a0cdc02"
      },
      "id": "edgfGXb1V-XQ",
      "execution_count": 17,
      "outputs": [
        {
          "output_type": "execute_result",
          "data": {
            "text/plain": [
              "0    395.0\n",
              "1    224.0\n",
              "2    193.0\n",
              "Name: mths_since_earliest_cr_line, dtype: float64"
            ]
          },
          "metadata": {},
          "execution_count": 17
        }
      ]
    },
    {
      "cell_type": "code",
      "source": [
        "df['mths_since_earliest_cr_line'].describe()"
      ],
      "metadata": {
        "colab": {
          "base_uri": "https://localhost:8080/"
        },
        "id": "OVAfoSMZV-Sq",
        "outputId": "ff8db67e-e0f5-46c4-a160-4c241033ae02"
      },
      "id": "OVAfoSMZV-Sq",
      "execution_count": 18,
      "outputs": [
        {
          "output_type": "execute_result",
          "data": {
            "text/plain": [
              "count    466256.000000\n",
              "mean        239.482430\n",
              "std          93.974829\n",
              "min        -612.000000\n",
              "25%         183.000000\n",
              "50%         225.000000\n",
              "75%         285.000000\n",
              "max         587.000000\n",
              "Name: mths_since_earliest_cr_line, dtype: float64"
            ]
          },
          "metadata": {},
          "execution_count": 18
        }
      ]
    },
    {
      "cell_type": "markdown",
      "source": [
        "Terlihat ada nilai yang aneh, yaitu negatif."
      ],
      "metadata": {
        "id": "C-8lj-zMXrwY"
      },
      "id": "C-8lj-zMXrwY"
    },
    {
      "cell_type": "code",
      "source": [
        "latest_year = df['earliest_cr_line_date'].dt.year.max()\n",
        "\n",
        "print(\"Tahun terbaru dalam kolom 'earliest_cr_line' adalah:\", latest_year)"
      ],
      "metadata": {
        "colab": {
          "base_uri": "https://localhost:8080/"
        },
        "id": "91lgJ1iAlspH",
        "outputId": "9020fb73-14c6-4888-c7c8-2e94919406a9"
      },
      "id": "91lgJ1iAlspH",
      "execution_count": 19,
      "outputs": [
        {
          "output_type": "stream",
          "name": "stdout",
          "text": [
            "Tahun terbaru dalam kolom 'earliest_cr_line' adalah: 2068.0\n"
          ]
        }
      ]
    },
    {
      "cell_type": "markdown",
      "source": [
        "Nilai negatif muncul karena fungsi Python salah menafsirkan tahun 68 sebagai tahun 2068, padahal seharusnya 68 merujuk pada tahun 1968."
      ],
      "metadata": {
        "id": "r1-FzwNnYuEJ"
      },
      "id": "r1-FzwNnYuEJ"
    },
    {
      "cell_type": "code",
      "source": [
        "df[df['mths_since_earliest_cr_line']<0][['earliest_cr_line', 'earliest_cr_line_date', 'mths_since_earliest_cr_line']].head(3)"
      ],
      "metadata": {
        "colab": {
          "base_uri": "https://localhost:8080/",
          "height": 143
        },
        "id": "4TQYMGYyXwzg",
        "outputId": "77516f32-1b50-4702-8c62-b9c4671fee3b"
      },
      "id": "4TQYMGYyXwzg",
      "execution_count": 20,
      "outputs": [
        {
          "output_type": "execute_result",
          "data": {
            "text/plain": [
              "     earliest_cr_line earliest_cr_line_date  mths_since_earliest_cr_line\n",
              "1580           Sep-62            2062-09-01                       -537.0\n",
              "1770           Sep-68            2068-09-01                       -609.0\n",
              "2799           Sep-64            2064-09-01                       -561.0"
            ],
            "text/html": [
              "\n",
              "  <div id=\"df-a13a01f7-038e-4ae2-a9d5-4e9fa187d149\" class=\"colab-df-container\">\n",
              "    <div>\n",
              "<style scoped>\n",
              "    .dataframe tbody tr th:only-of-type {\n",
              "        vertical-align: middle;\n",
              "    }\n",
              "\n",
              "    .dataframe tbody tr th {\n",
              "        vertical-align: top;\n",
              "    }\n",
              "\n",
              "    .dataframe thead th {\n",
              "        text-align: right;\n",
              "    }\n",
              "</style>\n",
              "<table border=\"1\" class=\"dataframe\">\n",
              "  <thead>\n",
              "    <tr style=\"text-align: right;\">\n",
              "      <th></th>\n",
              "      <th>earliest_cr_line</th>\n",
              "      <th>earliest_cr_line_date</th>\n",
              "      <th>mths_since_earliest_cr_line</th>\n",
              "    </tr>\n",
              "  </thead>\n",
              "  <tbody>\n",
              "    <tr>\n",
              "      <th>1580</th>\n",
              "      <td>Sep-62</td>\n",
              "      <td>2062-09-01</td>\n",
              "      <td>-537.0</td>\n",
              "    </tr>\n",
              "    <tr>\n",
              "      <th>1770</th>\n",
              "      <td>Sep-68</td>\n",
              "      <td>2068-09-01</td>\n",
              "      <td>-609.0</td>\n",
              "    </tr>\n",
              "    <tr>\n",
              "      <th>2799</th>\n",
              "      <td>Sep-64</td>\n",
              "      <td>2064-09-01</td>\n",
              "      <td>-561.0</td>\n",
              "    </tr>\n",
              "  </tbody>\n",
              "</table>\n",
              "</div>\n",
              "    <div class=\"colab-df-buttons\">\n",
              "\n",
              "  <div class=\"colab-df-container\">\n",
              "    <button class=\"colab-df-convert\" onclick=\"convertToInteractive('df-a13a01f7-038e-4ae2-a9d5-4e9fa187d149')\"\n",
              "            title=\"Convert this dataframe to an interactive table.\"\n",
              "            style=\"display:none;\">\n",
              "\n",
              "  <svg xmlns=\"http://www.w3.org/2000/svg\" height=\"24px\" viewBox=\"0 -960 960 960\">\n",
              "    <path d=\"M120-120v-720h720v720H120Zm60-500h600v-160H180v160Zm220 220h160v-160H400v160Zm0 220h160v-160H400v160ZM180-400h160v-160H180v160Zm440 0h160v-160H620v160ZM180-180h160v-160H180v160Zm440 0h160v-160H620v160Z\"/>\n",
              "  </svg>\n",
              "    </button>\n",
              "\n",
              "  <style>\n",
              "    .colab-df-container {\n",
              "      display:flex;\n",
              "      gap: 12px;\n",
              "    }\n",
              "\n",
              "    .colab-df-convert {\n",
              "      background-color: #E8F0FE;\n",
              "      border: none;\n",
              "      border-radius: 50%;\n",
              "      cursor: pointer;\n",
              "      display: none;\n",
              "      fill: #1967D2;\n",
              "      height: 32px;\n",
              "      padding: 0 0 0 0;\n",
              "      width: 32px;\n",
              "    }\n",
              "\n",
              "    .colab-df-convert:hover {\n",
              "      background-color: #E2EBFA;\n",
              "      box-shadow: 0px 1px 2px rgba(60, 64, 67, 0.3), 0px 1px 3px 1px rgba(60, 64, 67, 0.15);\n",
              "      fill: #174EA6;\n",
              "    }\n",
              "\n",
              "    .colab-df-buttons div {\n",
              "      margin-bottom: 4px;\n",
              "    }\n",
              "\n",
              "    [theme=dark] .colab-df-convert {\n",
              "      background-color: #3B4455;\n",
              "      fill: #D2E3FC;\n",
              "    }\n",
              "\n",
              "    [theme=dark] .colab-df-convert:hover {\n",
              "      background-color: #434B5C;\n",
              "      box-shadow: 0px 1px 3px 1px rgba(0, 0, 0, 0.15);\n",
              "      filter: drop-shadow(0px 1px 2px rgba(0, 0, 0, 0.3));\n",
              "      fill: #FFFFFF;\n",
              "    }\n",
              "  </style>\n",
              "\n",
              "    <script>\n",
              "      const buttonEl =\n",
              "        document.querySelector('#df-a13a01f7-038e-4ae2-a9d5-4e9fa187d149 button.colab-df-convert');\n",
              "      buttonEl.style.display =\n",
              "        google.colab.kernel.accessAllowed ? 'block' : 'none';\n",
              "\n",
              "      async function convertToInteractive(key) {\n",
              "        const element = document.querySelector('#df-a13a01f7-038e-4ae2-a9d5-4e9fa187d149');\n",
              "        const dataTable =\n",
              "          await google.colab.kernel.invokeFunction('convertToInteractive',\n",
              "                                                    [key], {});\n",
              "        if (!dataTable) return;\n",
              "\n",
              "        const docLinkHtml = 'Like what you see? Visit the ' +\n",
              "          '<a target=\"_blank\" href=https://colab.research.google.com/notebooks/data_table.ipynb>data table notebook</a>'\n",
              "          + ' to learn more about interactive tables.';\n",
              "        element.innerHTML = '';\n",
              "        dataTable['output_type'] = 'display_data';\n",
              "        await google.colab.output.renderOutput(dataTable, element);\n",
              "        const docLink = document.createElement('div');\n",
              "        docLink.innerHTML = docLinkHtml;\n",
              "        element.appendChild(docLink);\n",
              "      }\n",
              "    </script>\n",
              "  </div>\n",
              "\n",
              "\n",
              "<div id=\"df-83454943-68e4-483b-b9df-2171db0520f2\">\n",
              "  <button class=\"colab-df-quickchart\" onclick=\"quickchart('df-83454943-68e4-483b-b9df-2171db0520f2')\"\n",
              "            title=\"Suggest charts\"\n",
              "            style=\"display:none;\">\n",
              "\n",
              "<svg xmlns=\"http://www.w3.org/2000/svg\" height=\"24px\"viewBox=\"0 0 24 24\"\n",
              "     width=\"24px\">\n",
              "    <g>\n",
              "        <path d=\"M19 3H5c-1.1 0-2 .9-2 2v14c0 1.1.9 2 2 2h14c1.1 0 2-.9 2-2V5c0-1.1-.9-2-2-2zM9 17H7v-7h2v7zm4 0h-2V7h2v10zm4 0h-2v-4h2v4z\"/>\n",
              "    </g>\n",
              "</svg>\n",
              "  </button>\n",
              "\n",
              "<style>\n",
              "  .colab-df-quickchart {\n",
              "      --bg-color: #E8F0FE;\n",
              "      --fill-color: #1967D2;\n",
              "      --hover-bg-color: #E2EBFA;\n",
              "      --hover-fill-color: #174EA6;\n",
              "      --disabled-fill-color: #AAA;\n",
              "      --disabled-bg-color: #DDD;\n",
              "  }\n",
              "\n",
              "  [theme=dark] .colab-df-quickchart {\n",
              "      --bg-color: #3B4455;\n",
              "      --fill-color: #D2E3FC;\n",
              "      --hover-bg-color: #434B5C;\n",
              "      --hover-fill-color: #FFFFFF;\n",
              "      --disabled-bg-color: #3B4455;\n",
              "      --disabled-fill-color: #666;\n",
              "  }\n",
              "\n",
              "  .colab-df-quickchart {\n",
              "    background-color: var(--bg-color);\n",
              "    border: none;\n",
              "    border-radius: 50%;\n",
              "    cursor: pointer;\n",
              "    display: none;\n",
              "    fill: var(--fill-color);\n",
              "    height: 32px;\n",
              "    padding: 0;\n",
              "    width: 32px;\n",
              "  }\n",
              "\n",
              "  .colab-df-quickchart:hover {\n",
              "    background-color: var(--hover-bg-color);\n",
              "    box-shadow: 0 1px 2px rgba(60, 64, 67, 0.3), 0 1px 3px 1px rgba(60, 64, 67, 0.15);\n",
              "    fill: var(--button-hover-fill-color);\n",
              "  }\n",
              "\n",
              "  .colab-df-quickchart-complete:disabled,\n",
              "  .colab-df-quickchart-complete:disabled:hover {\n",
              "    background-color: var(--disabled-bg-color);\n",
              "    fill: var(--disabled-fill-color);\n",
              "    box-shadow: none;\n",
              "  }\n",
              "\n",
              "  .colab-df-spinner {\n",
              "    border: 2px solid var(--fill-color);\n",
              "    border-color: transparent;\n",
              "    border-bottom-color: var(--fill-color);\n",
              "    animation:\n",
              "      spin 1s steps(1) infinite;\n",
              "  }\n",
              "\n",
              "  @keyframes spin {\n",
              "    0% {\n",
              "      border-color: transparent;\n",
              "      border-bottom-color: var(--fill-color);\n",
              "      border-left-color: var(--fill-color);\n",
              "    }\n",
              "    20% {\n",
              "      border-color: transparent;\n",
              "      border-left-color: var(--fill-color);\n",
              "      border-top-color: var(--fill-color);\n",
              "    }\n",
              "    30% {\n",
              "      border-color: transparent;\n",
              "      border-left-color: var(--fill-color);\n",
              "      border-top-color: var(--fill-color);\n",
              "      border-right-color: var(--fill-color);\n",
              "    }\n",
              "    40% {\n",
              "      border-color: transparent;\n",
              "      border-right-color: var(--fill-color);\n",
              "      border-top-color: var(--fill-color);\n",
              "    }\n",
              "    60% {\n",
              "      border-color: transparent;\n",
              "      border-right-color: var(--fill-color);\n",
              "    }\n",
              "    80% {\n",
              "      border-color: transparent;\n",
              "      border-right-color: var(--fill-color);\n",
              "      border-bottom-color: var(--fill-color);\n",
              "    }\n",
              "    90% {\n",
              "      border-color: transparent;\n",
              "      border-bottom-color: var(--fill-color);\n",
              "    }\n",
              "  }\n",
              "</style>\n",
              "\n",
              "  <script>\n",
              "    async function quickchart(key) {\n",
              "      const quickchartButtonEl =\n",
              "        document.querySelector('#' + key + ' button');\n",
              "      quickchartButtonEl.disabled = true;  // To prevent multiple clicks.\n",
              "      quickchartButtonEl.classList.add('colab-df-spinner');\n",
              "      try {\n",
              "        const charts = await google.colab.kernel.invokeFunction(\n",
              "            'suggestCharts', [key], {});\n",
              "      } catch (error) {\n",
              "        console.error('Error during call to suggestCharts:', error);\n",
              "      }\n",
              "      quickchartButtonEl.classList.remove('colab-df-spinner');\n",
              "      quickchartButtonEl.classList.add('colab-df-quickchart-complete');\n",
              "    }\n",
              "    (() => {\n",
              "      let quickchartButtonEl =\n",
              "        document.querySelector('#df-83454943-68e4-483b-b9df-2171db0520f2 button');\n",
              "      quickchartButtonEl.style.display =\n",
              "        google.colab.kernel.accessAllowed ? 'block' : 'none';\n",
              "    })();\n",
              "  </script>\n",
              "</div>\n",
              "\n",
              "    </div>\n",
              "  </div>\n"
            ]
          },
          "metadata": {},
          "execution_count": 20
        }
      ]
    },
    {
      "cell_type": "markdown",
      "source": [
        "Untuk menyelesaikan masalah ini, kita bisa melakukan preprocessing lebih lanjut untuk memperbaiki tahun 2068 menjadi 1968. Namun, pada kali ini, saya hanya akan mengubah nilai yang negatif menjadi nilai maksimum dari fitur tersebut. Dalam kasus ini, karena nilai negatif menunjukkan data yang sangat lama (tahun 1900-an), masih masuk akal jika saya menggantinya dengan nilai maksimum."
      ],
      "metadata": {
        "id": "qunwCZ1PY5N5"
      },
      "id": "qunwCZ1PY5N5"
    },
    {
      "cell_type": "code",
      "source": [
        "df.loc[df['mths_since_earliest_cr_line']<0, 'mths_since_earliest_cr_line'] = df['mths_since_earliest_cr_line'].max()"
      ],
      "metadata": {
        "id": "ZKcnFojfY79A"
      },
      "id": "ZKcnFojfY79A",
      "execution_count": 21,
      "outputs": []
    },
    {
      "cell_type": "code",
      "source": [
        "df.drop(['earliest_cr_line', 'earliest_cr_line_date'], axis=1, inplace=True)"
      ],
      "metadata": {
        "id": "zsc_8zw0Y74C"
      },
      "id": "zsc_8zw0Y74C",
      "execution_count": 22,
      "outputs": []
    },
    {
      "cell_type": "markdown",
      "source": [
        "# issue_d\n",
        "Konsep preprocessing yang dilakukan sama dengan yang dilakukan terhadap variabel `earliest_cr_line`"
      ],
      "metadata": {
        "id": "xDaz4-DsZmQh"
      },
      "id": "xDaz4-DsZmQh"
    },
    {
      "cell_type": "code",
      "source": [
        "df['issue_d_date'] = pd.to_datetime(df['issue_d'], format='%b-%y')\n",
        "df['mths_since_issue_d'] = round(pd.to_numeric((pd.to_datetime('2017-12-01') - df['issue_d_date']) / np.timedelta64(1, 'M')))"
      ],
      "metadata": {
        "id": "L52vWLZqZc65"
      },
      "id": "L52vWLZqZc65",
      "execution_count": 23,
      "outputs": []
    },
    {
      "cell_type": "code",
      "source": [
        "df['mths_since_issue_d'].describe()"
      ],
      "metadata": {
        "colab": {
          "base_uri": "https://localhost:8080/"
        },
        "id": "_E6rdojtZd2A",
        "outputId": "72e413eb-213d-4cea-e7a2-cdefc7a890a0"
      },
      "id": "_E6rdojtZd2A",
      "execution_count": 24,
      "outputs": [
        {
          "output_type": "execute_result",
          "data": {
            "text/plain": [
              "count    466285.000000\n",
              "mean         51.255187\n",
              "std          14.340154\n",
              "min          36.000000\n",
              "25%          41.000000\n",
              "50%          47.000000\n",
              "75%          57.000000\n",
              "max         126.000000\n",
              "Name: mths_since_issue_d, dtype: float64"
            ]
          },
          "metadata": {},
          "execution_count": 24
        }
      ]
    },
    {
      "cell_type": "code",
      "source": [
        "df.drop(['issue_d', 'issue_d_date'], axis=1, inplace=True)"
      ],
      "metadata": {
        "id": "DMF_acc1Zdy3"
      },
      "id": "DMF_acc1Zdy3",
      "execution_count": 25,
      "outputs": []
    },
    {
      "cell_type": "markdown",
      "source": [
        "# last_pymnt_d\n",
        "Konsep preprocessing yang dilakukan sama dengan yang dilakukan terhadap variabel `earliest_cr_line`"
      ],
      "metadata": {
        "id": "PtuwfjonZ65q"
      },
      "id": "PtuwfjonZ65q"
    },
    {
      "cell_type": "code",
      "source": [
        "df['last_pymnt_d_date'] = pd.to_datetime(df['last_pymnt_d'], format='%b-%y')\n",
        "df['mths_since_last_pymnt_d'] = round(pd.to_numeric((pd.to_datetime('2017-12-01') - df['last_pymnt_d_date']) / np.timedelta64(1, 'M')))"
      ],
      "metadata": {
        "id": "GD48O5FaZ3zT"
      },
      "id": "GD48O5FaZ3zT",
      "execution_count": 26,
      "outputs": []
    },
    {
      "cell_type": "code",
      "source": [
        "df['mths_since_last_pymnt_d'].describe()"
      ],
      "metadata": {
        "colab": {
          "base_uri": "https://localhost:8080/"
        },
        "id": "wrVa6MAxZ3tJ",
        "outputId": "62a57ebc-6f58-4d7c-c1e8-3a3160cbdffa"
      },
      "id": "wrVa6MAxZ3tJ",
      "execution_count": 27,
      "outputs": [
        {
          "output_type": "execute_result",
          "data": {
            "text/plain": [
              "count    465909.000000\n",
              "mean         31.294369\n",
              "std          12.809898\n",
              "min          23.000000\n",
              "25%          23.000000\n",
              "50%          24.000000\n",
              "75%          35.000000\n",
              "max         120.000000\n",
              "Name: mths_since_last_pymnt_d, dtype: float64"
            ]
          },
          "metadata": {},
          "execution_count": 27
        }
      ]
    },
    {
      "cell_type": "code",
      "source": [
        "df.drop(['last_pymnt_d', 'last_pymnt_d_date'], axis=1, inplace=True)"
      ],
      "metadata": {
        "id": "2YfEDFSmaQtZ"
      },
      "id": "2YfEDFSmaQtZ",
      "execution_count": 28,
      "outputs": []
    },
    {
      "cell_type": "markdown",
      "source": [
        "### last_credit_pull_d\n",
        "Konsep preprocessing yang dilakukan sama dengan yang dilakukan terhadap variabel `earliest_cr_line`"
      ],
      "metadata": {
        "id": "0YZD1CGWarU_"
      },
      "id": "0YZD1CGWarU_"
    },
    {
      "cell_type": "code",
      "source": [
        "df['last_credit_pull_d_date'] = pd.to_datetime(df['last_credit_pull_d'], format='%b-%y')\n",
        "df['mths_since_last_credit_pull_d'] = round(pd.to_numeric((pd.to_datetime('2017-12-01') - df['last_credit_pull_d_date']) / np.timedelta64(1, 'M')))"
      ],
      "metadata": {
        "id": "tRM-BhPlavzK"
      },
      "id": "tRM-BhPlavzK",
      "execution_count": 29,
      "outputs": []
    },
    {
      "cell_type": "code",
      "source": [
        "df['mths_since_last_credit_pull_d'].describe()"
      ],
      "metadata": {
        "colab": {
          "base_uri": "https://localhost:8080/"
        },
        "id": "xS4qq_faa1mq",
        "outputId": "7911a3c6-5948-4c53-c2fa-c61da4bd6841"
      },
      "id": "xS4qq_faa1mq",
      "execution_count": 30,
      "outputs": [
        {
          "output_type": "execute_result",
          "data": {
            "text/plain": [
              "count    466243.000000\n",
              "mean         27.045588\n",
              "std           9.636423\n",
              "min          23.000000\n",
              "25%          23.000000\n",
              "50%          23.000000\n",
              "75%          25.000000\n",
              "max         127.000000\n",
              "Name: mths_since_last_credit_pull_d, dtype: float64"
            ]
          },
          "metadata": {},
          "execution_count": 30
        }
      ]
    },
    {
      "cell_type": "code",
      "source": [
        "df.drop(['last_credit_pull_d', 'last_credit_pull_d_date'], axis=1, inplace=True)"
      ],
      "metadata": {
        "id": "pD5HodoPa5sx"
      },
      "id": "pD5HodoPa5sx",
      "execution_count": 31,
      "outputs": []
    },
    {
      "cell_type": "markdown",
      "id": "dd2e7f60",
      "metadata": {
        "id": "dd2e7f60"
      },
      "source": [
        "# **DEFINE TARGET VARIABLE / LABELING**\n",
        "\n",
        "Menentukan target variabel good loan atau bad loan dari informasi kolom **loan_status**"
      ]
    },
    {
      "cell_type": "markdown",
      "source": [
        "Dalam proyek pemodelan risiko kredit, tujuan utamanya adalah untuk memprediksi kemampuan seseorang dalam melakukan pembayaran pinjaman atau kredit yang diberikan. Oleh karena itu, variabel target yang dipilih harus mencerminkan kemampuan individu\n",
        "\n",
        "variabel `loan_status` cocok digunakan sebagai variabel target karena mencerminkan seberapa baik individu tersebut dalam melakukan pembayaran terhadap pinjaman atau kredit mereka selama ini."
      ],
      "metadata": {
        "id": "XekPU1h-bwQH"
      },
      "id": "XekPU1h-bwQH"
    },
    {
      "cell_type": "code",
      "execution_count": 32,
      "id": "932c3724",
      "metadata": {
        "id": "932c3724",
        "outputId": "23ce6179-016e-4f1a-f0fd-708848c446c6",
        "colab": {
          "base_uri": "https://localhost:8080/"
        }
      },
      "outputs": [
        {
          "output_type": "execute_result",
          "data": {
            "text/plain": [
              "Current                                                224226\n",
              "Fully Paid                                             184739\n",
              "Charged Off                                             42475\n",
              "Late (31-120 days)                                       6900\n",
              "In Grace Period                                          3146\n",
              "Does not meet the credit policy. Status:Fully Paid       1988\n",
              "Late (16-30 days)                                        1218\n",
              "Default                                                   832\n",
              "Does not meet the credit policy. Status:Charged Off       761\n",
              "Name: loan_status, dtype: int64"
            ]
          },
          "metadata": {},
          "execution_count": 32
        }
      ],
      "source": [
        "df.loan_status.value_counts()"
      ]
    },
    {
      "cell_type": "code",
      "execution_count": 33,
      "id": "f9bbd69c",
      "metadata": {
        "id": "f9bbd69c",
        "outputId": "c6a01ca2-df53-438c-9db1-680907281dd6",
        "colab": {
          "base_uri": "https://localhost:8080/",
          "height": 573
        }
      },
      "outputs": [
        {
          "output_type": "display_data",
          "data": {
            "text/plain": [
              "<Figure size 1000x600 with 1 Axes>"
            ],
            "image/png": "[encoded data removed]"
          },
          "metadata": {}
        }
      ],
      "source": [
        "import matplotlib.pyplot as plt\n",
        "import seaborn as sns\n",
        "\n",
        "sns.set(style=\"whitegrid\")\n",
        "\n",
        "plt.figure(figsize=(10, 6))\n",
        "sns.countplot(y='loan_status', data=df)\n",
        "plt.title('Distribusi Loan Status')\n",
        "plt.show()"
      ]
    },
    {
      "cell_type": "markdown",
      "id": "1f28eaf5",
      "metadata": {
        "id": "1f28eaf5"
      },
      "source": [
        "- **Current**: Pinjaman yang sedang aktif dan pembayarannya dilakukan tepat waktu.\n",
        "\n",
        "- **Fully Paid**: Pinjaman ini telah dilunasi sepenuhnya, tanpa keterlambatan pembayaran.\n",
        "\n",
        "- **Charged Off**: Pinjaman ini telah dianggap sebagai kerugian oleh pemberi pinjaman, biasanya setelah periode keterlambatan pembayaran yang signifikan.\n",
        "\n",
        "- **Late (31-120 days)**: Pinjaman ini terlambat dibayar antara 31 hingga 120 hari.\n",
        "\n",
        "- **In Grace Period**: Pinjaman ini dalam periode tenggang, yaitu periode waktu singkat setelah jatuh tempo pembayaran di mana peminjam masih dapat melakukan pembayaran tanpa dikenakan denda.\n",
        "\n",
        "- **Does not meet the credit policy. Status: Fully Paid**: Pinjaman ini telah dilunasi sepenuhnya tetapi tidak memenuhi kebijakan kredit yang ditetapkan setelah pinjaman diberikan.\n",
        "\n",
        "- **Late (16-30 days)**: Pinjaman ini terlambat dibayar antara 16 hingga 30 hari.\n",
        "\n",
        "- **Default**: Pembayaran macet, biasanya ini berarti pembayaran telah terlambat lebih dari 120 hari.\n",
        "\n",
        "- **Does not meet the credit policy. Status: Charged Off**: Pinjaman ini telah dianggap sebagai kerugian dan tidak memenuhi kebijakan kredit yang ditetapkan setelah pinjaman diberikan."
      ]
    },
    {
      "cell_type": "markdown",
      "source": [
        "Membuat feature target untuk mengklasifikasikan status pinjaman menjadi Good Loan atau Bad Loan. Good Loan dikategorikan sebagai 1 dan Bad Loan sebagai 0."
      ],
      "metadata": {
        "id": "dH8IfnB5dLRf"
      },
      "id": "dH8IfnB5dLRf"
    },
    {
      "cell_type": "code",
      "source": [
        "def classify_loan(status):\n",
        "\n",
        "    # Mendefinisikan status pinjaman yang dikategorikan sebagai Bad Loan\n",
        "    bad_loan_statuses = [\n",
        "        'Charged Off',\n",
        "        'Default',\n",
        "        'Does not meet the credit policy. Status:Charged Off',\n",
        "        'Late (31-120 days)',\n",
        "        'Late (16-30 days)'\n",
        "    ]\n",
        "\n",
        "    # Mengembalikan 0 jika status termasuk dalam bad_loan_statuses, selain itu 1\n",
        "    return 0 if status in bad_loan_statuses else 1\n",
        "\n",
        "# Menerapkan fungsi classify_loan pada DataFrame untuk membuat kolom target baru\n",
        "df['loan_status_target'] = df['loan_status'].apply(classify_loan)\n",
        "\n",
        "# Menampilkan beberapa baris pertama dari DataFrame untuk memverifikasi hasil\n",
        "print(df[['loan_status', 'loan_status_target']].head())"
      ],
      "metadata": {
        "colab": {
          "base_uri": "https://localhost:8080/"
        },
        "id": "i_MXzTh-dZC6",
        "outputId": "b161dd29-9bee-4a2a-e18c-93d076cfa299"
      },
      "id": "i_MXzTh-dZC6",
      "execution_count": 34,
      "outputs": [
        {
          "output_type": "stream",
          "name": "stdout",
          "text": [
            "   loan_status  loan_status_target\n",
            "0   Fully Paid                   1\n",
            "1  Charged Off                   0\n",
            "2   Fully Paid                   1\n",
            "3   Fully Paid                   1\n",
            "4      Current                   1\n"
          ]
        }
      ]
    },
    {
      "cell_type": "code",
      "source": [
        "import matplotlib.pyplot as plt\n",
        "import seaborn as sns\n",
        "\n",
        "plt.figure(figsize=(8, 5))\n",
        "sns.countplot(x='loan_status_target', data=df)\n",
        "plt.title('Distribusi Good Loan vs Bad Loan')\n",
        "plt.xlabel('Loan Status (0 = Bad Loan, 1 = Good Loan)')\n",
        "plt.ylabel('Jumlah')\n",
        "plt.show()"
      ],
      "metadata": {
        "colab": {
          "base_uri": "https://localhost:8080/",
          "height": 496
        },
        "id": "606N59HWdnJP",
        "outputId": "d11b8138-1a46-4fc9-fe4d-e229c3fa3222"
      },
      "id": "606N59HWdnJP",
      "execution_count": 35,
      "outputs": [
        {
          "output_type": "display_data",
          "data": {
            "text/plain": [
              "<Figure size 800x500 with 1 Axes>"
            ],
            "image/png": "[encoded data removed]"
          },
          "metadata": {}
        }
      ]
    },
    {
      "cell_type": "markdown",
      "source": [
        "dapat dilihat bahwa jumlah bad loan jauh lebih sedikit daripada good loan. Hal ini menyebabkan problem imbalanced dataset."
      ],
      "metadata": {
        "id": "U6Zngp_5eJZa"
      },
      "id": "U6Zngp_5eJZa"
    },
    {
      "cell_type": "markdown",
      "source": [
        "Jangan lupa untuk membuang kolom asal `loan_status`"
      ],
      "metadata": {
        "id": "foF98FgAeeIp"
      },
      "id": "foF98FgAeeIp"
    },
    {
      "cell_type": "code",
      "source": [
        "df.drop('loan_status', axis=1, inplace=True)"
      ],
      "metadata": {
        "id": "d8G48kG5eHn_"
      },
      "id": "d8G48kG5eHn_",
      "execution_count": 36,
      "outputs": []
    },
    {
      "cell_type": "markdown",
      "id": "a2d96ab7",
      "metadata": {
        "id": "a2d96ab7"
      },
      "source": [
        "# Exploratory Data Analysis"
      ]
    },
    {
      "cell_type": "code",
      "source": [
        "import matplotlib.pyplot as plt\n",
        "import seaborn as sns\n",
        "\n",
        "plt.figure(figsize=(20,20))\n",
        "sns.heatmap(df.corr(numeric_only=True))"
      ],
      "metadata": {
        "colab": {
          "base_uri": "https://localhost:8080/",
          "height": 1000
        },
        "id": "8yR5GVCae6YD",
        "outputId": "179888a6-c4b4-4d29-c30c-85d2092cd25c"
      },
      "id": "8yR5GVCae6YD",
      "execution_count": 37,
      "outputs": [
        {
          "output_type": "execute_result",
          "data": {
            "text/plain": [
              "<Axes: >"
            ]
          },
          "metadata": {},
          "execution_count": 37
        },
        {
          "output_type": "display_data",
          "data": {
            "text/plain": [
              "<Figure size 2000x2000 with 2 Axes>"
            ],
            "image/png": "[encoded data removed]"
          },
          "metadata": {}
        }
      ]
    },
    {
      "cell_type": "markdown",
      "source": [
        "Di sini, jika terdapat pasangan fitur dengan korelasi yang tinggi, salah satunya akan dipilih. Tidak ada standar pasti untuk menentukan nilai korelasi yang dianggap tinggi, tetapi biasanya angka 0.7 digunakan sebagai acuan."
      ],
      "metadata": {
        "id": "s0WnkCnzgTe5"
      },
      "id": "s0WnkCnzgTe5"
    },
    {
      "cell_type": "code",
      "source": [
        "# Hitung matriks korelasi antar fitur numerik\n",
        "corr_matrix = df.corr(numeric_only=True).abs()\n",
        "\n",
        "# Ambil setengah bagian atas dari matriks korelasi untuk mendapatkan nilai korelasi yang unik\n",
        "# Gunakan np.triu untuk menghasilkan matriks segitiga atas dengan nilai True di atas diagonal\n",
        "# Dengan parameter k=1 untuk menghilangkan diagonal utama\n",
        "upper = corr_matrix.where(np.triu(np.ones(corr_matrix.shape), k=1).astype(bool))\n",
        "\n",
        "# Temukan kolom-kolom yang memiliki korelasi lebih dari 0.7 dengan kolom lainnya\n",
        "to_drop_hicorr = [column for column in upper.columns if any(upper[column] > 0.7)]"
      ],
      "metadata": {
        "id": "KTQ48PiguFBO"
      },
      "id": "KTQ48PiguFBO",
      "execution_count": 38,
      "outputs": []
    },
    {
      "cell_type": "code",
      "source": [
        "to_drop_hicorr"
      ],
      "metadata": {
        "colab": {
          "base_uri": "https://localhost:8080/"
        },
        "id": "9pqdcm8Sfgih",
        "outputId": "e5788c2d-27df-4bb3-af3e-8a5111934bc1"
      },
      "id": "9pqdcm8Sfgih",
      "execution_count": 39,
      "outputs": [
        {
          "output_type": "execute_result",
          "data": {
            "text/plain": [
              "['funded_amnt',\n",
              " 'funded_amnt_inv',\n",
              " 'installment',\n",
              " 'out_prncp_inv',\n",
              " 'total_pymnt',\n",
              " 'total_pymnt_inv',\n",
              " 'total_rec_prncp',\n",
              " 'total_rec_int',\n",
              " 'collection_recovery_fee',\n",
              " 'last_pymnt_amnt',\n",
              " 'total_rev_hi_lim',\n",
              " 'mths_since_last_pymnt_d',\n",
              " 'mths_since_last_credit_pull_d']"
            ]
          },
          "metadata": {},
          "execution_count": 39
        }
      ]
    },
    {
      "cell_type": "code",
      "source": [
        "df.drop(to_drop_hicorr, axis=1, inplace=True)"
      ],
      "metadata": {
        "id": "WUlXeguUiMK7"
      },
      "id": "WUlXeguUiMK7",
      "execution_count": 40,
      "outputs": []
    },
    {
      "cell_type": "markdown",
      "source": [
        "# Check Categorical Features"
      ],
      "metadata": {
        "id": "CoodwIFnqz29"
      },
      "id": "CoodwIFnqz29"
    },
    {
      "cell_type": "code",
      "source": [
        "df.select_dtypes(include='object').nunique()"
      ],
      "metadata": {
        "colab": {
          "base_uri": "https://localhost:8080/"
        },
        "id": "bt2XV0SGiYzR",
        "outputId": "8be2973e-91e8-4c9c-9389-f1762dddcbf5"
      },
      "id": "bt2XV0SGiYzR",
      "execution_count": 41,
      "outputs": [
        {
          "output_type": "execute_result",
          "data": {
            "text/plain": [
              "grade                       7\n",
              "sub_grade                  35\n",
              "emp_title              205475\n",
              "home_ownership              6\n",
              "verification_status         3\n",
              "pymnt_plan                  2\n",
              "purpose                    14\n",
              "initial_list_status         2\n",
              "dtype: int64"
            ]
          },
          "metadata": {},
          "execution_count": 41
        }
      ]
    },
    {
      "cell_type": "markdown",
      "source": [
        "Pada tahap ini dilakukan pembuangan fitur yang memiliki nilai unik yang sangat tinggi (high cardinality)"
      ],
      "metadata": {
        "id": "pFoZjTu7rAr-"
      },
      "id": "pFoZjTu7rAr-"
    },
    {
      "cell_type": "code",
      "source": [
        "df.drop(['emp_title'], axis=1, inplace=True)"
      ],
      "metadata": {
        "id": "mAmuezOtrKNH"
      },
      "id": "mAmuezOtrKNH",
      "execution_count": 42,
      "outputs": []
    },
    {
      "cell_type": "code",
      "source": [
        "for col in df.select_dtypes(include='object').columns.tolist():\n",
        "    print(df[col].value_counts(normalize=True)*100)\n",
        "    print('\\n')"
      ],
      "metadata": {
        "colab": {
          "base_uri": "https://localhost:8080/"
        },
        "id": "lqzZxPRqpGY1",
        "outputId": "e9e0ba5f-1782-439d-9ef6-e7371cbda4a8"
      },
      "id": "lqzZxPRqpGY1",
      "execution_count": 43,
      "outputs": [
        {
          "output_type": "stream",
          "name": "stdout",
          "text": [
            "B    29.365946\n",
            "C    26.870476\n",
            "D    16.489486\n",
            "A    16.056060\n",
            "E     7.668486\n",
            "F     2.837106\n",
            "G     0.712440\n",
            "Name: grade, dtype: float64\n",
            "\n",
            "\n",
            "B3    6.795415\n",
            "B4    6.542136\n",
            "C1    5.780370\n",
            "C2    5.734690\n",
            "B2    5.706810\n",
            "C3    5.429512\n",
            "B5    5.415572\n",
            "C4    5.169585\n",
            "B1    4.906012\n",
            "C5    4.756319\n",
            "A5    4.666030\n",
            "D1    4.130735\n",
            "A4    4.084412\n",
            "D2    3.655704\n",
            "D3    3.198902\n",
            "D4    3.023687\n",
            "A3    2.695347\n",
            "D5    2.480457\n",
            "A2    2.349636\n",
            "A1    2.260635\n",
            "E1    1.937227\n",
            "E2    1.859163\n",
            "E3    1.496081\n",
            "E4    1.285051\n",
            "E5    1.090964\n",
            "F1    0.844977\n",
            "F2    0.643598\n",
            "F3    0.580761\n",
            "F4    0.443291\n",
            "F5    0.324480\n",
            "G1    0.237837\n",
            "G2    0.176501\n",
            "G3    0.125031\n",
            "G4    0.090503\n",
            "G5    0.082568\n",
            "Name: sub_grade, dtype: float64\n",
            "\n",
            "\n",
            "MORTGAGE    50.586015\n",
            "RENT        40.420129\n",
            "OWN          8.943886\n",
            "OTHER        0.039032\n",
            "NONE         0.010723\n",
            "ANY          0.000214\n",
            "Name: home_ownership, dtype: float64\n",
            "\n",
            "\n",
            "Verified           36.041262\n",
            "Source Verified    32.167666\n",
            "Not Verified       31.791072\n",
            "Name: verification_status, dtype: float64\n",
            "\n",
            "\n",
            "n    99.99807\n",
            "y     0.00193\n",
            "Name: pymnt_plan, dtype: float64\n",
            "\n",
            "\n",
            "debt_consolidation    58.804165\n",
            "credit_card           22.337626\n",
            "home_improvement       5.691155\n",
            "other                  5.080584\n",
            "major_purchase         2.107724\n",
            "small_business         1.504016\n",
            "car                    1.157447\n",
            "medical                0.986950\n",
            "moving                 0.642097\n",
            "vacation               0.533365\n",
            "wedding                0.502482\n",
            "house                  0.486612\n",
            "educational            0.090503\n",
            "renewable_energy       0.075276\n",
            "Name: purpose, dtype: float64\n",
            "\n",
            "\n",
            "f    64.982789\n",
            "w    35.017211\n",
            "Name: initial_list_status, dtype: float64\n",
            "\n",
            "\n"
          ]
        }
      ]
    },
    {
      "cell_type": "markdown",
      "source": [
        "Fitur yang sangat didominasi oleh salah satu nilai saja akan dibuang pada tahap ini."
      ],
      "metadata": {
        "id": "GYQ2uO_trbTY"
      },
      "id": "GYQ2uO_trbTY"
    },
    {
      "cell_type": "code",
      "source": [
        "df.drop('pymnt_plan', axis=1, inplace=True)"
      ],
      "metadata": {
        "id": "TN40XN2hrdxd"
      },
      "id": "TN40XN2hrdxd",
      "execution_count": 44,
      "outputs": []
    },
    {
      "cell_type": "markdown",
      "source": [
        "# MISSING VALUES\n",
        "Missing Value Checking"
      ],
      "metadata": {
        "id": "7i3l-Kwvro1X"
      },
      "id": "7i3l-Kwvro1X"
    },
    {
      "cell_type": "code",
      "source": [
        "check_missing = df.isnull().sum() * 100 / df.shape[0]\n",
        "check_missing[check_missing > 0].sort_values(ascending=False)"
      ],
      "metadata": {
        "id": "ZvO5kleYroMQ",
        "colab": {
          "base_uri": "https://localhost:8080/"
        },
        "outputId": "8ae789e3-6fe4-42a9-fdfc-afb566add52e"
      },
      "id": "ZvO5kleYroMQ",
      "execution_count": 45,
      "outputs": [
        {
          "output_type": "execute_result",
          "data": {
            "text/plain": [
              "tot_coll_amt                   15.071469\n",
              "tot_cur_bal                    15.071469\n",
              "emp_length_int                  4.505399\n",
              "revol_util                      0.072917\n",
              "collections_12_mths_ex_med      0.031097\n",
              "delinq_2yrs                     0.006219\n",
              "inq_last_6mths                  0.006219\n",
              "open_acc                        0.006219\n",
              "pub_rec                         0.006219\n",
              "total_acc                       0.006219\n",
              "acc_now_delinq                  0.006219\n",
              "mths_since_earliest_cr_line     0.006219\n",
              "annual_inc                      0.000858\n",
              "dtype: float64"
            ]
          },
          "metadata": {},
          "execution_count": 45
        }
      ]
    },
    {
      "cell_type": "markdown",
      "source": [
        "Proses Impute missing value setelah dataset splitting agar tidak terjadi data leakage"
      ],
      "metadata": {
        "id": "zROod23QZFxi"
      },
      "id": "zROod23QZFxi"
    },
    {
      "cell_type": "markdown",
      "id": "f2c72de1",
      "metadata": {
        "id": "f2c72de1"
      },
      "source": [
        "# Dataset Splitting"
      ]
    },
    {
      "cell_type": "code",
      "source": [
        "from sklearn.model_selection import train_test_split, RandomizedSearchCV\n",
        "from sklearn.ensemble import RandomForestClassifier\n",
        "from sklearn.metrics import classification_report, accuracy_score\n",
        "from sklearn.pipeline import Pipeline\n",
        "from sklearn.impute import SimpleImputer\n",
        "from sklearn.preprocessing import StandardScaler, OneHotEncoder\n",
        "from sklearn.compose import ColumnTransformer"
      ],
      "metadata": {
        "id": "0n9B6gGQmd3I"
      },
      "id": "0n9B6gGQmd3I",
      "execution_count": 46,
      "outputs": []
    },
    {
      "cell_type": "code",
      "source": [
        "X = df.drop(['loan_status_target'], axis=1)\n",
        "y = df['loan_status_target']\n",
        "\n",
        "X_train, X_test, y_train, y_test = train_test_split(X, y, test_size=0.2, random_state=42)\n",
        "X_train.shape, X_test.shape, y_train.shape, y_test.shape"
      ],
      "metadata": {
        "colab": {
          "base_uri": "https://localhost:8080/"
        },
        "id": "zc5Ui7dZmisG",
        "outputId": "104c662f-8129-449a-e149-17bc89387259"
      },
      "id": "zc5Ui7dZmisG",
      "execution_count": 47,
      "outputs": [
        {
          "output_type": "execute_result",
          "data": {
            "text/plain": [
              "((373028, 28), (93257, 28), (373028,), (93257,))"
            ]
          },
          "metadata": {},
          "execution_count": 47
        }
      ]
    },
    {
      "cell_type": "markdown",
      "id": "9ab3c99b",
      "metadata": {
        "id": "9ab3c99b"
      },
      "source": [
        "# Preprocessor"
      ]
    },
    {
      "cell_type": "code",
      "source": [
        "df.info()"
      ],
      "metadata": {
        "colab": {
          "base_uri": "https://localhost:8080/"
        },
        "id": "jmCGOAcFu_Yd",
        "outputId": "f6251bc8-ef98-4eef-867d-e3f16e1a6a63"
      },
      "id": "jmCGOAcFu_Yd",
      "execution_count": 48,
      "outputs": [
        {
          "output_type": "stream",
          "name": "stdout",
          "text": [
            "<class 'pandas.core.frame.DataFrame'>\n",
            "RangeIndex: 466285 entries, 0 to 466284\n",
            "Data columns (total 29 columns):\n",
            " #   Column                       Non-Null Count   Dtype  \n",
            "---  ------                       --------------   -----  \n",
            " 0   loan_amnt                    466285 non-null  int64  \n",
            " 1   int_rate                     466285 non-null  float64\n",
            " 2   grade                        466285 non-null  object \n",
            " 3   sub_grade                    466285 non-null  object \n",
            " 4   home_ownership               466285 non-null  object \n",
            " 5   annual_inc                   466281 non-null  float64\n",
            " 6   verification_status          466285 non-null  object \n",
            " 7   purpose                      466285 non-null  object \n",
            " 8   dti                          466285 non-null  float64\n",
            " 9   delinq_2yrs                  466256 non-null  float64\n",
            " 10  inq_last_6mths               466256 non-null  float64\n",
            " 11  open_acc                     466256 non-null  float64\n",
            " 12  pub_rec                      466256 non-null  float64\n",
            " 13  revol_bal                    466285 non-null  int64  \n",
            " 14  revol_util                   465945 non-null  float64\n",
            " 15  total_acc                    466256 non-null  float64\n",
            " 16  initial_list_status          466285 non-null  object \n",
            " 17  out_prncp                    466285 non-null  float64\n",
            " 18  total_rec_late_fee           466285 non-null  float64\n",
            " 19  recoveries                   466285 non-null  float64\n",
            " 20  collections_12_mths_ex_med   466140 non-null  float64\n",
            " 21  acc_now_delinq               466256 non-null  float64\n",
            " 22  tot_coll_amt                 396009 non-null  float64\n",
            " 23  tot_cur_bal                  396009 non-null  float64\n",
            " 24  emp_length_int               445277 non-null  float64\n",
            " 25  term_int                     466285 non-null  int64  \n",
            " 26  mths_since_earliest_cr_line  466256 non-null  float64\n",
            " 27  mths_since_issue_d           466285 non-null  float64\n",
            " 28  loan_status_target           466285 non-null  int64  \n",
            "dtypes: float64(19), int64(4), object(6)\n",
            "memory usage: 103.2+ MB\n"
          ]
        }
      ]
    },
    {
      "cell_type": "code",
      "execution_count": 49,
      "id": "5a8f8a53",
      "metadata": {
        "id": "5a8f8a53"
      },
      "outputs": [],
      "source": [
        "# Tentukan kolom numerik dan kategorikal\n",
        "numerical_cols = ['loan_amnt', 'int_rate', 'annual_inc', 'dti', 'delinq_2yrs', 'inq_last_6mths',\n",
        "                  'open_acc', 'pub_rec', 'revol_bal', 'revol_util', 'total_acc', 'out_prncp',\n",
        "                  'total_rec_late_fee', 'recoveries', 'collections_12_mths_ex_med', 'acc_now_delinq',\n",
        "                  'tot_coll_amt', 'tot_cur_bal', 'emp_length_int', 'term_int', 'mths_since_earliest_cr_line',\n",
        "                  'mths_since_issue_d']\n",
        "\n",
        "categorical_cols = ['grade', 'sub_grade', 'home_ownership', 'verification_status',\n",
        "                    'purpose', 'initial_list_status']\n",
        "\n",
        "# Buat pipeline untuk preprocessing\n",
        "numerical_pipeline = Pipeline([\n",
        "    (\"imputer\", SimpleImputer(strategy=\"mean\")),\n",
        "    (\"scaler\", StandardScaler()),\n",
        "])\n",
        "\n",
        "categorical_pipeline = Pipeline([\n",
        "    (\"imputer\", SimpleImputer(strategy=\"most_frequent\")),\n",
        "    (\"onehot\", OneHotEncoder(handle_unknown='ignore'))\n",
        "])\n",
        "\n",
        "preprocessor = ColumnTransformer([\n",
        "    (\"numeric\", numerical_pipeline, numerical_cols),\n",
        "    (\"categoric\", categorical_pipeline, categorical_cols)\n",
        "])"
      ]
    },
    {
      "cell_type": "markdown",
      "id": "7378624d",
      "metadata": {
        "id": "7378624d"
      },
      "source": [
        "Impute missing value untuk numerik menggunakan mean dan kategorik dengan modus. Serta dilakukan Scalling untuk data numerik menggunakan standardScaler dan dilakukan encoding untuk data kategorik menggunakan OneHotencoder"
      ]
    },
    {
      "cell_type": "markdown",
      "id": "722caf39",
      "metadata": {
        "id": "722caf39"
      },
      "source": [
        "# Modeling"
      ]
    },
    {
      "cell_type": "code",
      "execution_count": 51,
      "id": "9aee4e26",
      "metadata": {
        "id": "9aee4e26"
      },
      "outputs": [],
      "source": [
        "rf_model = Pipeline([\n",
        "    (\"preprocessor\", preprocessor),\n",
        "    (\"classifier\", RandomForestClassifier(random_state=42))\n",
        "])\n",
        "\n",
        "# Menambahkan parameter rf\n",
        "param_space = {\n",
        "    \"classifier__n_estimators\": [100, 200, 300],\n",
        "    \"classifier__max_depth\": [5, 10, 15],\n",
        "    \"classifier__min_samples_split\": [2, 5, 10],\n",
        "    \"classifier__min_samples_leaf\": [1, 2, 4]\n",
        "}\n",
        "\n",
        "# Inisialisasi pencarian acak dengan nama model\n",
        "model = RandomizedSearchCV(rf_model, param_distributions=param_space, n_iter=10, cv=3, random_state=42)"
      ]
    },
    {
      "cell_type": "code",
      "source": [
        "model.fit(X_train, y_train)\n",
        "\n",
        "# Tampilkan hasil\n",
        "print(\"Best Parameters:\", model.best_params_)\n",
        "print(\"Training Accuracy:\", model.score(X_train, y_train))\n",
        "print(\"Model Best Score:\", model.best_score_)\n",
        "print(\"Test Accuracy:\", model.score(X_test, y_test))"
      ],
      "metadata": {
        "colab": {
          "base_uri": "https://localhost:8080/"
        },
        "id": "VqmklJilxqFe",
        "outputId": "54fca81f-2222-4555-c72b-5a039b175586"
      },
      "id": "VqmklJilxqFe",
      "execution_count": 52,
      "outputs": [
        {
          "output_type": "stream",
          "name": "stdout",
          "text": [
            "Best Parameters: {'classifier__n_estimators': 200, 'classifier__min_samples_split': 10, 'classifier__min_samples_leaf': 2, 'classifier__max_depth': 15}\n",
            "Training Accuracy: 0.9418220616146777\n",
            "Model Best Score: 0.9406130367524298\n",
            "Test Accuracy: 0.9408194559121568\n"
          ]
        }
      ]
    },
    {
      "cell_type": "markdown",
      "source": [
        "# Evaluasi model"
      ],
      "metadata": {
        "id": "2MkB7Pb0nZgX"
      },
      "id": "2MkB7Pb0nZgX"
    },
    {
      "cell_type": "code",
      "execution_count": 70,
      "id": "06f1f24d",
      "metadata": {
        "id": "06f1f24d",
        "colab": {
          "base_uri": "https://localhost:8080/"
        },
        "outputId": "53b53c50-1977-46b3-e3e9-d207db9bf475"
      },
      "outputs": [
        {
          "output_type": "stream",
          "name": "stdout",
          "text": [
            "              precision    recall  f1-score   support\n",
            "\n",
            "           0       1.00      0.47      0.64     10427\n",
            "           1       0.94      1.00      0.97     82830\n",
            "\n",
            "    accuracy                           0.94     93257\n",
            "   macro avg       0.97      0.74      0.80     93257\n",
            "weighted avg       0.94      0.94      0.93     93257\n",
            "\n"
          ]
        }
      ],
      "source": [
        "y_pred = model.predict(X_test)\n",
        "print(classification_report(y_test, y_pred))"
      ]
    },
    {
      "cell_type": "code",
      "source": [],
      "metadata": {
        "id": "hRe3XnR1I73d"
      },
      "id": "hRe3XnR1I73d",
      "execution_count": null,
      "outputs": []
    }
  ],
  "metadata": {
    "kernelspec": {
      "display_name": "Python 3",
      "name": "python3"
    },
    "language_info": {
      "name": "python"
    },
    "colab": {
      "provenance": [],
      "gpuType": "T4"
    },
    "accelerator": "GPU"
  },
  "nbformat": 4,
  "nbformat_minor": 5
}